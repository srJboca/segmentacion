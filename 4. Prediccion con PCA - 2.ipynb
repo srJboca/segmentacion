{
  "nbformat": 4,
  "nbformat_minor": 5,
  "metadata": {
    "colab": {
      "provenance": [],
      "include_colab_link": true
    },
    "kernelspec": {
      "name": "python3",
      "display_name": "Python 3"
    },
    "language_info": {
      "name": "python"
    }
  },
  "cells": [
    {
      "cell_type": "markdown",
      "metadata": {
        "id": "view-in-github",
        "colab_type": "text"
      },
      "source": [
        "<a href=\"https://colab.research.google.com/github/srJboca/segmentacion/blob/main/4.%20Prediccion%20con%20PCA%20-%202.ipynb\" target=\"_parent\"><img src=\"https://colab.research.google.com/assets/colab-badge.svg\" alt=\"Open In Colab\"/></a>"
      ]
    },
    {
      "cell_type": "markdown",
      "source": [
        "# Tutorial: Modelo de Predicción de Mora con PCA\n",
        "\n",
        "## Introducción\n",
        "\n",
        "Este notebook demuestra el proceso de construcción de un modelo de predicción para la variable 'Mora' (incumplimiento de pago). Un aspecto clave de este tutorial es el uso del Análisis de Componentes Principales (PCA) para la reducción de dimensionalidad antes de entrenar un modelo RandomForestClassifier. Además, el notebook ilustra un proceso iterativo de modelado, donde se identifica y corrige un problema común de fuga de datos (data leakage), lo cual es una lección importante en la práctica de la ciencia de datos.\n",
        "\n",
        "**Pasos del Tutorial:**\n",
        "1.  Configuración inicial y carga de datos.\n",
        "2.  Preparación de datos y selección inicial de características.\n",
        "3.  Primer intento de modelado con PCA, que revelará un problema de fuga de datos.\n",
        "4.  Segundo intento de modelado, corrigiendo la fuga de datos y aplicando PCA nuevamente.\n",
        "5.  Estimación de la importancia de las características originales después de la aplicación de PCA.\n",
        "\n",
        "A través de estos pasos, veremos cómo se puede refinar un modelo y la importancia de una cuidadosa selección y preparación de características."
      ],
      "metadata": {
        "id": "intro_pred_pca_tutorial_markdown"
      },
      "id": "intro_pred_pca_tutorial_markdown"
    },
    {
      "cell_type": "markdown",
      "source": [
        "## 1. Configuración Inicial y Carga de Datos"
      ],
      "metadata": {
        "id": "setup_and_load_markdown"
      },
      "id": "setup_and_load_markdown"
    },
    {
      "cell_type": "markdown",
      "source": [
        "### 1.1 Importación de Librerías Necesarias\n",
        "Comenzamos importando las librerías que se utilizarán para la manipulación de datos, visualización, preprocesamiento y modelado."
      ],
      "metadata": {
        "id": "import_libs_markdown"
      },
      "id": "import_libs_markdown"
    },
    {
      "cell_type": "code",
      "source": [
        "import warnings\n",
        "warnings.filterwarnings('ignore')\n",
        "\n",
        "import pandas as pd\n",
        "import numpy as np\n",
        "import matplotlib.pyplot as plt\n",
        "import seaborn as sns\n",
        "\n",
        "from sklearn.model_selection import train_test_split\n",
        "from sklearn.ensemble import RandomForestClassifier\n",
        "from sklearn.metrics import accuracy_score, classification_report, confusion_matrix\n",
        "from sklearn.preprocessing import StandardScaler\n",
        "from sklearn.decomposition import PCA"
      ],
      "metadata": {
        "id": "ldvwepAOlLTC"
      },
      "execution_count": 1,
      "outputs": [],
      "id": "ldvwepAOlLTC"
    },
    {
      "cell_type": "markdown",
      "source": [
        "### 1.2 Carga del Dataset\n",
        "Descargamos y cargamos el dataset `df_analisis.parquet`, que contiene los datos preprocesados de facturación y clientes de un notebook anterior."
      ],
      "metadata": {
        "id": "load_data_markdown"
      },
      "id": "load_data_markdown"
    },
    {
      "cell_type": "code",
      "source": [
        "!wget -N https://github.com/srJboca/segmentacion/raw/refs/heads/main/archivos/df_analisis.parquet\n",
        "df_analisis = pd.read_parquet('df_analisis.parquet')"
      ],
      "metadata": {
        "id": "AuyjTblClMGH",
        "outputId": "1abedbc1-723f-4ff5-a5b8-41ab2e97ed53",
        "colab": {
          "base_uri": "https://localhost:8080/"
        }
      },
      "execution_count": 2,
      "outputs": [
        {
          "output_type": "stream",
          "name": "stdout",
          "text": [
            "--2025-06-03 03:49:38--  https://github.com/srJboca/segmentacion/raw/refs/heads/main/archivos/df_analisis.parquet\n",
            "Resolving github.com (github.com)... 20.27.177.113\n",
            "Connecting to github.com (github.com)|20.27.177.113|:443... connected.\n",
            "HTTP request sent, awaiting response... 302 Found\n",
            "Location: https://raw.githubusercontent.com/srJboca/segmentacion/refs/heads/main/archivos/df_analisis.parquet [following]\n",
            "--2025-06-03 03:49:38--  https://raw.githubusercontent.com/srJboca/segmentacion/refs/heads/main/archivos/df_analisis.parquet\n",
            "Resolving raw.githubusercontent.com (raw.githubusercontent.com)... 185.199.111.133, 185.199.109.133, 185.199.108.133, ...\n",
            "Connecting to raw.githubusercontent.com (raw.githubusercontent.com)|185.199.111.133|:443... connected.\n",
            "HTTP request sent, awaiting response... 200 OK\n",
            "Length: 75105565 (72M) [application/octet-stream]\n",
            "Saving to: ‘df_analisis.parquet’\n",
            "\n",
            "df_analisis.parquet 100%[===================>]  71.63M  56.4MB/s    in 1.3s    \n",
            "\n",
            "Last-modified header missing -- time-stamps turned off.\n",
            "2025-06-03 03:49:44 (56.4 MB/s) - ‘df_analisis.parquet’ saved [75105565/75105565]\n",
            "\n"
          ]
        }
      ],
      "id": "AuyjTblClMGH"
    },
    {
      "cell_type": "markdown",
      "source": [
        "## 2. Preparación de Datos para la Predicción\n",
        "\n",
        "El título original de esta sección era \"# Exploración de los datos\", pero dado el contenido, se enfoca más en la preparación para la predicción."
      ],
      "metadata": {
        "id": "data_prep_title_markdown"
      },
      "id": "data_prep_title_markdown"
    },
    {
      "cell_type": "code",
      "source": [
        "# df_analisis = pd.read_parquet('df_analisis.parquet') # Ya cargado arriba\n",
        "# Visualización inicial para recordar la estructura\n",
        "print(\"--- Primeras filas de df_analisis ---\")\n",
        "print(df_analisis.head())\n",
        "df_analisis.info()"
      ],
      "metadata": {
        "id": "9S6RHKsclJWn_recheck",
        "outputId": "2b0c4057-da6f-419b-e3ce-bcf94245a191",
        "colab": {
          "base_uri": "https://localhost:8080/"
        }
      },
      "execution_count": 3,
      "outputs": [
        {
          "output_type": "stream",
          "name": "stdout",
          "text": [
            "--- Primeras filas de df_analisis ---\n",
            "                      Numero de factura                    Numero de contrato  \\\n",
            "0  886199bb-77c8-43e2-86a0-a53348fa2706  ba70b7fa-aef4-492a-9d45-13a0c63ce47c   \n",
            "1  886199bb-77c8-43e2-86a0-a53348fa2706  ba70b7fa-aef4-492a-9d45-13a0c63ce47c   \n",
            "2  6848b692-4212-4738-a35c-1f8c0d383e3d  ba70b7fa-aef4-492a-9d45-13a0c63ce47c   \n",
            "3  ad91361e-9b8d-491e-bef9-e690e9b28faf  ba70b7fa-aef4-492a-9d45-13a0c63ce47c   \n",
            "4  e77f7ac6-734b-4856-a5c3-1a32d845e6b6  ba70b7fa-aef4-492a-9d45-13a0c63ce47c   \n",
            "\n",
            "  Fecha de Emision  Consumo (m3) Fecha de Pago Oportuno Fecha de Lectura  \\\n",
            "0       2021-01-06         11.51             2021-01-19       2020-12-28   \n",
            "1       2021-01-06         11.51             2021-01-19       2020-12-28   \n",
            "2       2021-03-02         10.26             2021-03-17       2021-02-20   \n",
            "3       2021-04-01         14.96             2021-04-11       2021-03-27   \n",
            "4       2021-05-10         14.89             2021-05-21       2021-05-05   \n",
            "\n",
            "  Fecha de Suspension Estimada        Ciudad    Estrato  Precio m3 (COP)  \\\n",
            "0                   2021-01-22  Barranquilla  Estrato 1              588   \n",
            "1                   2021-01-22  Barranquilla  Estrato 1              588   \n",
            "2                   2021-03-20  Barranquilla  Estrato 1              588   \n",
            "3                   2021-04-14  Barranquilla  Estrato 1              637   \n",
            "4                   2021-05-26  Barranquilla  Estrato 1              637   \n",
            "\n",
            "  Fecha de Pago Real  Precio por Consumo  Dias_Emision_PagoOportuno  \\\n",
            "0         2021-01-15             6767.88                         13   \n",
            "1         2021-01-15             6767.88                         13   \n",
            "2         2021-03-16             6032.88                         15   \n",
            "3         2021-04-05             9529.52                         10   \n",
            "4         2021-05-11             9484.93                         11   \n",
            "\n",
            "   Dias_Lectura_Emision  Dias_PagoOportuno_PagoReal  mora  Mora  \n",
            "0                     9                          -4     0     0  \n",
            "1                     9                          -4     0     0  \n",
            "2                    10                          -1     0     0  \n",
            "3                     5                          -6     0     0  \n",
            "4                     5                         -10     0     0  \n",
            "<class 'pandas.core.frame.DataFrame'>\n",
            "RangeIndex: 2400000 entries, 0 to 2399999\n",
            "Data columns (total 17 columns):\n",
            " #   Column                        Dtype         \n",
            "---  ------                        -----         \n",
            " 0   Numero de factura             object        \n",
            " 1   Numero de contrato            object        \n",
            " 2   Fecha de Emision              datetime64[ns]\n",
            " 3   Consumo (m3)                  float64       \n",
            " 4   Fecha de Pago Oportuno        datetime64[ns]\n",
            " 5   Fecha de Lectura              datetime64[ns]\n",
            " 6   Fecha de Suspension Estimada  object        \n",
            " 7   Ciudad                        object        \n",
            " 8   Estrato                       object        \n",
            " 9   Precio m3 (COP)               int64         \n",
            " 10  Fecha de Pago Real            datetime64[ns]\n",
            " 11  Precio por Consumo            float64       \n",
            " 12  Dias_Emision_PagoOportuno     int64         \n",
            " 13  Dias_Lectura_Emision          int64         \n",
            " 14  Dias_PagoOportuno_PagoReal    int64         \n",
            " 15  mora                          int64         \n",
            " 16  Mora                          int64         \n",
            "dtypes: datetime64[ns](4), float64(2), int64(6), object(5)\n",
            "memory usage: 311.3+ MB\n"
          ]
        }
      ],
      "id": "9S6RHKsclJWn_recheck"
    },
    {
      "cell_type": "markdown",
      "source": [
        "### 2.1 Selección Inicial de Características\n",
        "El notebook original titula esta sección \"# Ejercicios de prediccion con PCA\".\n",
        "Se selecciona un subconjunto de columnas de `df_analisis` para crear `df_prediccion`. Es importante notar que en esta selección inicial se incluye `Dias_PagoOportuno_PagoReal`, una variable que está directamente relacionada con la definición de `Mora`."
      ],
      "metadata": {
        "id": "feature_selection_markdown_cell5"
      },
      "id": "feature_selection_markdown_cell5"
    },
    {
      "cell_type": "code",
      "source": [
        "df_prediccion = df_analisis[['Numero de factura', 'Consumo (m3)', 'Estrato', 'Precio por Consumo', 'Dias_Emision_PagoOportuno', 'Dias_Lectura_Emision', 'Dias_PagoOportuno_PagoReal', 'Mora']]\n",
        "print(\"--- df_prediccion (primeras filas después de selección inicial) ---\")\n",
        "print(df_prediccion.head())"
      ],
      "metadata": {
        "id": "JuXAGsbYalt9_and_U9MGsGQra3Ac",
        "outputId": "8eb651d4-dbde-4863-c95f-a760bf31f9ad",
        "colab": {
          "base_uri": "https://localhost:8080/"
        }
      },
      "execution_count": 4,
      "outputs": [
        {
          "output_type": "stream",
          "name": "stdout",
          "text": [
            "--- df_prediccion (primeras filas después de selección inicial) ---\n",
            "                      Numero de factura  Consumo (m3)    Estrato  \\\n",
            "0  886199bb-77c8-43e2-86a0-a53348fa2706         11.51  Estrato 1   \n",
            "1  886199bb-77c8-43e2-86a0-a53348fa2706         11.51  Estrato 1   \n",
            "2  6848b692-4212-4738-a35c-1f8c0d383e3d         10.26  Estrato 1   \n",
            "3  ad91361e-9b8d-491e-bef9-e690e9b28faf         14.96  Estrato 1   \n",
            "4  e77f7ac6-734b-4856-a5c3-1a32d845e6b6         14.89  Estrato 1   \n",
            "\n",
            "   Precio por Consumo  Dias_Emision_PagoOportuno  Dias_Lectura_Emision  \\\n",
            "0             6767.88                         13                     9   \n",
            "1             6767.88                         13                     9   \n",
            "2             6032.88                         15                    10   \n",
            "3             9529.52                         10                     5   \n",
            "4             9484.93                         11                     5   \n",
            "\n",
            "   Dias_PagoOportuno_PagoReal  Mora  \n",
            "0                          -4     0  \n",
            "1                          -4     0  \n",
            "2                          -1     0  \n",
            "3                          -6     0  \n",
            "4                         -10     0  \n"
          ]
        }
      ],
      "id": "JuXAGsbYalt9_and_U9MGsGQra3Ac"
    },
    {
      "cell_type": "markdown",
      "source": [
        "### 2.2 Preprocesamiento Básico de Características\n",
        "A continuación, se realizan varias tareas de preprocesamiento:\n",
        "- Se elimina la columna 'Numero de factura', ya que es un identificador y no una característica predictiva.\n",
        "- La columna 'Estrato' se convierte de un formato de texto (ej. \"Estrato 1\") a un valor numérico entero.\n",
        "- Los valores faltantes (NaN) en el DataFrame se rellenan con la media de sus respectivas columnas."
      ],
      "metadata": {
        "id": "basic_preprocessing_markdown_cell7"
      },
      "id": "basic_preprocessing_markdown_cell7"
    },
    {
      "cell_type": "code",
      "source": [
        "df_prediccion_ml = df_prediccion.drop('Numero de factura', axis=1).copy() # Se usa .copy() para evitar SettingWithCopyWarning\n",
        "\n",
        "# Convertir 'Estrato' a numérico ordinal\n",
        "if df_prediccion_ml['Estrato'].dtype == 'object' or isinstance(df_prediccion_ml['Estrato'].dtype, pd.CategoricalDtype):\n",
        "    df_prediccion_ml['Estrato'] = df_prediccion_ml['Estrato'].str.replace('Estrato ', '', regex=False).astype(int)\n",
        "else:\n",
        "    df_prediccion_ml['Estrato'] = df_prediccion_ml['Estrato'].astype(int)\n",
        "\n",
        "# Imputar NaNs con la media de cada columna\n",
        "for col in df_prediccion_ml.columns:\n",
        "    if df_prediccion_ml[col].isnull().any():\n",
        "        df_prediccion_ml[col].fillna(df_prediccion_ml[col].mean(), inplace=True)\n",
        "\n",
        "print(\"--- df_prediccion_ml después de preprocesamiento básico (primeras filas) ---\")\n",
        "print(df_prediccion_ml.head())\n",
        "print(\"\\n--- Verificación de NaNs restantes ---\")\n",
        "print(df_prediccion_ml.isnull().sum())"
      ],
      "metadata": {
        "id": "cell7_code_content",
        "outputId": "568243ee-48b6-4f8f-ff2e-3075834c40cd",
        "colab": {
          "base_uri": "https://localhost:8080/"
        }
      },
      "execution_count": 5,
      "outputs": [
        {
          "output_type": "stream",
          "name": "stdout",
          "text": [
            "--- df_prediccion_ml después de preprocesamiento básico (primeras filas) ---\n",
            "   Consumo (m3)  Estrato  Precio por Consumo  Dias_Emision_PagoOportuno  \\\n",
            "0         11.51        1             6767.88                         13   \n",
            "1         11.51        1             6767.88                         13   \n",
            "2         10.26        1             6032.88                         15   \n",
            "3         14.96        1             9529.52                         10   \n",
            "4         14.89        1             9484.93                         11   \n",
            "\n",
            "   Dias_Lectura_Emision  Dias_PagoOportuno_PagoReal  Mora  \n",
            "0                     9                          -4     0  \n",
            "1                     9                          -4     0  \n",
            "2                    10                          -1     0  \n",
            "3                     5                          -6     0  \n",
            "4                     5                         -10     0  \n",
            "\n",
            "--- Verificación de NaNs restantes ---\n",
            "Consumo (m3)                  0\n",
            "Estrato                       0\n",
            "Precio por Consumo            0\n",
            "Dias_Emision_PagoOportuno     0\n",
            "Dias_Lectura_Emision          0\n",
            "Dias_PagoOportuno_PagoReal    0\n",
            "Mora                          0\n",
            "dtype: int64\n"
          ]
        }
      ],
      "id": "cell7_code_content"
    },
    {
      "cell_type": "markdown",
      "source": [
        "## 3. Modelado con PCA - Primer Intento (Ilustrando Fuga de Datos)\n",
        "\n",
        "En este primer intento, construiremos un modelo utilizando las características preparadas, incluyendo `Dias_PagoOportuno_PagoReal`. Como se mencionó, esto probablemente resultará en una fuga de datos."
      ],
      "metadata": {
        "id": "modeling1_intro_markdown"
      },
      "id": "modeling1_intro_markdown"
    },
    {
      "cell_type": "markdown",
      "source": [
        "### 3.1 Definición de Características (X) y Variable Objetivo (y)"
      ],
      "metadata": {
        "id": "define_Xy_leak_markdown"
      },
      "id": "define_Xy_leak_markdown"
    },
    {
      "cell_type": "code",
      "source": [
        "X_leak = df_prediccion_ml.drop('Mora', axis=1)\n",
        "y_leak = df_prediccion_ml['Mora']\n",
        "\n",
        "print(\"--- Características X_leak (primeras filas) ---\")\n",
        "print(X_leak.head())\n",
        "print(\"\\n--- Variable objetivo y_leak (primeras filas) ---\")\n",
        "print(y_leak.head())"
      ],
      "metadata": {
        "id": "define_Xy_leak_code_part_of_cell7",
        "outputId": "f7b09c3b-d744-4808-9567-32f14a11d2af",
        "colab": {
          "base_uri": "https://localhost:8080/"
        }
      },
      "execution_count": 6,
      "outputs": [
        {
          "output_type": "stream",
          "name": "stdout",
          "text": [
            "--- Características X_leak (primeras filas) ---\n",
            "   Consumo (m3)  Estrato  Precio por Consumo  Dias_Emision_PagoOportuno  \\\n",
            "0         11.51        1             6767.88                         13   \n",
            "1         11.51        1             6767.88                         13   \n",
            "2         10.26        1             6032.88                         15   \n",
            "3         14.96        1             9529.52                         10   \n",
            "4         14.89        1             9484.93                         11   \n",
            "\n",
            "   Dias_Lectura_Emision  Dias_PagoOportuno_PagoReal  \n",
            "0                     9                          -4  \n",
            "1                     9                          -4  \n",
            "2                    10                          -1  \n",
            "3                     5                          -6  \n",
            "4                     5                         -10  \n",
            "\n",
            "--- Variable objetivo y_leak (primeras filas) ---\n",
            "0    0\n",
            "1    0\n",
            "2    0\n",
            "3    0\n",
            "4    0\n",
            "Name: Mora, dtype: int64\n"
          ]
        }
      ],
      "id": "define_Xy_leak_code_part_of_cell7"
    },
    {
      "cell_type": "markdown",
      "source": [
        "### 3.2 Escalado de Características\n",
        "Antes de aplicar PCA, es crucial escalar las características para que todas tengan una media de 0 y una desviación estándar de 1. Esto asegura que las características con magnitudes mayores no dominen el análisis de componentes principales."
      ],
      "metadata": {
        "id": "scaling_leak_markdown"
      },
      "id": "scaling_leak_markdown"
    },
    {
      "cell_type": "code",
      "source": [
        "scaler_leak = StandardScaler()\n",
        "X_scaled_leak = scaler_leak.fit_transform(X_leak)\n",
        "\n",
        "print(\"--- X_scaled_leak (primeras 5 filas de características escaladas) ---\")\n",
        "print(pd.DataFrame(X_scaled_leak, columns=X_leak.columns).head())"
      ],
      "metadata": {
        "id": "cell8_code_content",
        "outputId": "13e9d3ff-a6eb-4175-e6a5-e0fe7d8ab27c",
        "colab": {
          "base_uri": "https://localhost:8080/"
        }
      },
      "execution_count": 7,
      "outputs": [
        {
          "output_type": "stream",
          "name": "stdout",
          "text": [
            "--- X_scaled_leak (primeras 5 filas de características escaladas) ---\n",
            "   Consumo (m3)   Estrato  Precio por Consumo  Dias_Emision_PagoOportuno  \\\n",
            "0     -0.228758 -1.173305           -1.024588                   0.293913   \n",
            "1     -0.228758 -1.173305           -1.024588                   0.293913   \n",
            "2     -0.517315 -1.173305           -1.104680                   1.464782   \n",
            "3      0.567660 -1.173305           -0.723656                  -1.462391   \n",
            "4      0.551500 -1.173305           -0.728515                  -0.876957   \n",
            "\n",
            "   Dias_Lectura_Emision  Dias_PagoOportuno_PagoReal  \n",
            "0              0.879353                   -0.606847  \n",
            "1              0.879353                   -0.606847  \n",
            "2              1.464965                   -0.243007  \n",
            "3             -1.463097                   -0.849407  \n",
            "4             -1.463097                   -1.334527  \n"
          ]
        }
      ],
      "id": "cell8_code_content"
    },
    {
      "cell_type": "markdown",
      "source": [
        "### 3.3 Aplicación de PCA\n",
        "Aplicamos PCA para reducir la dimensionalidad del conjunto de datos. Se configura `n_components=0.95`, lo que significa que PCA seleccionará el número mínimo de componentes principales que logren explicar al menos el 95% de la varianza en los datos escalados."
      ],
      "metadata": {
        "id": "pca_leak_markdown"
      },
      "id": "pca_leak_markdown"
    },
    {
      "cell_type": "code",
      "source": [
        "pca_leak = PCA(n_components=0.95)\n",
        "X_pca_leak = pca_leak.fit_transform(X_scaled_leak)\n",
        "\n",
        "print(f\"Número de componentes seleccionados por PCA (con leakage): {pca_leak.n_components_}\")\n",
        "print(f\"Varianza explicada por cada componente: {pca_leak.explained_variance_ratio_}\")\n",
        "print(f\"Varianza explicada acumulada: {pca_leak.explained_variance_ratio_.sum():.4f}\")\n",
        "print(\"\\n--- X_pca_leak (primeras 5 filas de componentes principales) ---\")\n",
        "print(pd.DataFrame(X_pca_leak).head())"
      ],
      "metadata": {
        "id": "cell9_code_content",
        "outputId": "ef722e97-8167-4eb8-d305-d6ed832858d1",
        "colab": {
          "base_uri": "https://localhost:8080/"
        }
      },
      "execution_count": 8,
      "outputs": [
        {
          "output_type": "stream",
          "name": "stdout",
          "text": [
            "Número de componentes seleccionados por PCA (con leakage): 5\n",
            "Varianza explicada por cada componente: [0.28844036 0.16700398 0.1667819  0.16652381 0.16645021]\n",
            "Varianza explicada acumulada: 0.9552\n",
            "\n",
            "--- X_pca_leak (primeras 5 filas de componentes principales) ---\n",
            "          0         1         2         3         4\n",
            "0 -1.316445  0.695379  0.305548 -1.170526 -0.093741\n",
            "1 -1.316445  0.695379  0.305548 -1.170526 -0.093741\n",
            "2 -1.544456  1.634697  1.179591 -0.839910  0.245958\n",
            "3 -0.630377 -1.096210 -2.032761 -1.123220  0.278516\n",
            "4 -0.643859 -1.054806 -1.592973 -1.418787  0.822259\n"
          ]
        }
      ],
      "id": "cell9_code_content"
    },
    {
      "cell_type": "markdown",
      "source": [
        "### 3.4 División en Conjuntos de Entrenamiento y Prueba"
      ],
      "metadata": {
        "id": "split_leak_markdown"
      },
      "id": "split_leak_markdown"
    },
    {
      "cell_type": "code",
      "source": [
        "X_train_pca_leak, X_test_pca_leak, y_train_leak, y_test_leak = train_test_split(\n",
        "    X_pca_leak, y_leak, test_size=0.2, random_state=42, stratify=y_leak\n",
        ")\n",
        "\n",
        "print(f\"Dimensiones de X_train_pca_leak: {X_train_pca_leak.shape}\")\n",
        "print(f\"Dimensiones de X_test_pca_leak: {X_test_pca_leak.shape}\")"
      ],
      "metadata": {
        "id": "cell10_code_content",
        "outputId": "faa4b506-6b63-4dbf-af63-97aaa9650b7b",
        "colab": {
          "base_uri": "https://localhost:8080/"
        }
      },
      "execution_count": 9,
      "outputs": [
        {
          "output_type": "stream",
          "name": "stdout",
          "text": [
            "Dimensiones de X_train_pca_leak: (1920000, 5)\n",
            "Dimensiones de X_test_pca_leak: (480000, 5)\n"
          ]
        }
      ],
      "id": "cell10_code_content"
    },
    {
      "cell_type": "markdown",
      "source": [
        "### 3.5 Entrenamiento y Evaluación del Modelo RandomForest (Intento 1)\n",
        "Se entrena un RandomForestClassifier utilizando los componentes principales. El parámetro `class_weight='balanced'` se usa para manejar el posible desbalance de clases en la variable 'Mora'."
      ],
      "metadata": {
        "id": "train_eval_leak_markdown"
      },
      "id": "train_eval_leak_markdown"
    },
    {
      "cell_type": "code",
      "source": [
        "model_leak = RandomForestClassifier(n_estimators=100, random_state=42, class_weight='balanced')\n",
        "model_leak.fit(X_train_pca_leak, y_train_leak)\n",
        "\n",
        "y_pred_leak = model_leak.predict(X_test_pca_leak)\n",
        "\n",
        "print(\"--- Evaluación del Modelo (Intento 1 - con posible leakage) ---\")\n",
        "print(f\"Accuracy: {accuracy_score(y_test_leak, y_pred_leak):.4f}\")\n",
        "print(\"\\nClassification Report:\\n\", classification_report(y_test_leak, y_pred_leak))\n",
        "print(\"\\nConfusion Matrix:\\n\", confusion_matrix(y_test_leak, y_pred_leak))"
      ],
      "metadata": {
        "colab": {
          "base_uri": "https://localhost:8080/"
        },
        "id": "cell11_code_content_original_cell9_output_notebook2",
        "outputId": "df3a3ae9-24c2-4842-9afe-28105c27c52d"
      },
      "execution_count": 10,
      "outputs": [
        {
          "output_type": "stream",
          "name": "stdout",
          "text": [
            "--- Evaluación del Modelo (Intento 1 - con posible leakage) ---\n",
            "Accuracy: 1.0000\n",
            "\n",
            "Classification Report:\n",
            "               precision    recall  f1-score   support\n",
            "\n",
            "           0       1.00      1.00      1.00    359928\n",
            "           1       1.00      1.00      1.00    120072\n",
            "\n",
            "    accuracy                           1.00    480000\n",
            "   macro avg       1.00      1.00      1.00    480000\n",
            "weighted avg       1.00      1.00      1.00    480000\n",
            "\n",
            "\n",
            "Confusion Matrix:\n",
            " [[359928      0]\n",
            " [    18 120054]]\n"
          ]
        }
      ],
      "id": "cell11_code_content_original_cell9_output_notebook2"
    },
    {
      "cell_type": "markdown",
      "source": [
        "**Análisis del Intento 1:**\n",
        "Como se puede observar en la salida (que el notebook original generó con una accuracy de 1.0 y un reporte de clasificación perfecto), el modelo parece predecir la 'Mora' perfectamente. Esto es una fuerte indicación de **fuga de datos**, causada por la inclusión de la variable `Dias_PagoOportuno_PagoReal` que está directamente relacionada con cómo se calcula la 'Mora'."
      ],
      "metadata": {
        "id": "analysis_attempt1_markdown"
      },
      "id": "analysis_attempt1_markdown"
    },
    {
      "cell_type": "markdown",
      "source": [
        "# Segunda prueba sin la variable Dias_PagoOportuno_PagoReal\n",
        "\n",
        "## 4. Modelado con PCA - Segundo Intento (Corrigiendo Fuga de Datos)\n",
        "\n",
        "En este segundo intento, eliminaremos la variable `Dias_PagoOportuno_PagoReal` para construir un modelo más robusto y realista."
      ],
      "metadata": {
        "id": "modeling2_intro_markdown_cell12"
      },
      "id": "modeling2_intro_markdown_cell12"
    },
    {
      "cell_type": "markdown",
      "source": [
        "### 4.1 Preparación de Datos Sin Fuga de Datos"
      ],
      "metadata": {
        "id": "prep_no_leak_markdown"
      },
      "id": "prep_no_leak_markdown"
    },
    {
      "cell_type": "code",
      "source": [
        "# Reutilizamos df_prediccion_ml que ya tiene 'Estrato' convertido y NaNs imputados,\n",
        "# pero esta vez eliminamos 'Dias_PagoOportuno_PagoReal'\n",
        "df_prediccion_ml_sin_leak = df_prediccion_ml.drop('Dias_PagoOportuno_PagoReal', axis=1)\n",
        "\n",
        "X_sin_leak = df_prediccion_ml_sin_leak.drop('Mora', axis=1)\n",
        "y_sin_leak = df_prediccion_ml_sin_leak['Mora']\n",
        "\n",
        "print(\"--- Características X_sin_leak (primeras filas) ---\")\n",
        "print(X_sin_leak.head())"
      ],
      "metadata": {
        "id": "cell13_code_content_original_cell10_output_notebook2",
        "outputId": "f6160c31-b4db-4b29-c493-abd3f62a3114",
        "colab": {
          "base_uri": "https://localhost:8080/"
        }
      },
      "execution_count": 11,
      "outputs": [
        {
          "output_type": "stream",
          "name": "stdout",
          "text": [
            "--- Características X_sin_leak (primeras filas) ---\n",
            "   Consumo (m3)  Estrato  Precio por Consumo  Dias_Emision_PagoOportuno  \\\n",
            "0         11.51        1             6767.88                         13   \n",
            "1         11.51        1             6767.88                         13   \n",
            "2         10.26        1             6032.88                         15   \n",
            "3         14.96        1             9529.52                         10   \n",
            "4         14.89        1             9484.93                         11   \n",
            "\n",
            "   Dias_Lectura_Emision  \n",
            "0                     9  \n",
            "1                     9  \n",
            "2                    10  \n",
            "3                     5  \n",
            "4                     5  \n"
          ]
        }
      ],
      "id": "cell13_code_content_original_cell10_output_notebook2"
    },
    {
      "cell_type": "markdown",
      "source": [
        "### 4.2 Escalado de Características y Aplicación de PCA (Sin Fuga)"
      ],
      "metadata": {
        "id": "scale_pca_no_leak_markdown"
      },
      "id": "scale_pca_no_leak_markdown"
    },
    {
      "cell_type": "code",
      "source": [
        "scaler_sin_leak = StandardScaler()\n",
        "X_scaled_sin_leak = scaler_sin_leak.fit_transform(X_sin_leak)\n",
        "\n",
        "pca_sin_leak = PCA(n_components=0.95)\n",
        "X_pca_sin_leak = pca_sin_leak.fit_transform(X_scaled_sin_leak)\n",
        "\n",
        "print(f\"Número de componentes seleccionados por PCA (sin leakage): {pca_sin_leak.n_components_}\")\n",
        "print(f\"Varianza explicada acumulada (sin leakage): {pca_sin_leak.explained_variance_ratio_.sum():.4f}\")\n",
        "print(\"\\n--- X_pca_sin_leak (primeras 5 filas de componentes principales) ---\")\n",
        "print(pd.DataFrame(X_pca_sin_leak).head())"
      ],
      "metadata": {
        "id": "cell14_15_code_content",
        "outputId": "8cd84f2f-e01e-4bd2-fd65-a216da2c6827",
        "colab": {
          "base_uri": "https://localhost:8080/"
        }
      },
      "execution_count": 12,
      "outputs": [
        {
          "output_type": "stream",
          "name": "stdout",
          "text": [
            "Número de componentes seleccionados por PCA (sin leakage): 5\n",
            "Varianza explicada acumulada (sin leakage): 1.0000\n",
            "\n",
            "--- X_pca_sin_leak (primeras 5 filas de componentes principales) ---\n",
            "          0         1         2         3         4\n",
            "0 -1.316168  1.094917 -0.443476 -0.439158 -0.133146\n",
            "1 -1.316168  1.094917 -0.443476 -0.439158 -0.133146\n",
            "2 -1.544346  2.176887  0.178549 -0.013738 -0.019409\n",
            "3 -0.629988 -1.390291 -2.004090 -0.054984 -0.390648\n",
            "4 -0.643248 -1.009708 -1.846525  0.361113 -0.384578\n"
          ]
        }
      ],
      "id": "cell14_15_code_content"
    },
    {
      "cell_type": "markdown",
      "source": [
        "### 4.3 División en Conjuntos de Entrenamiento y Prueba (Sin Fuga)"
      ],
      "metadata": {
        "id": "split_no_leak_markdown"
      },
      "id": "split_no_leak_markdown"
    },
    {
      "cell_type": "code",
      "source": [
        "X_train_pca_sin_leak, X_test_pca_sin_leak, y_train_sin_leak, y_test_sin_leak = train_test_split(\n",
        "    X_pca_sin_leak, y_sin_leak, test_size=0.2, random_state=42, stratify=y_sin_leak\n",
        ")\n",
        "\n",
        "print(f\"Dimensiones de X_train_pca_sin_leak: {X_train_pca_sin_leak.shape}\")\n",
        "print(f\"Dimensiones de X_test_pca_sin_leak: {X_test_pca_sin_leak.shape}\")"
      ],
      "metadata": {
        "id": "cell16_code_content",
        "outputId": "d6d35721-053d-43d8-e9fd-f7cde5ca9571",
        "colab": {
          "base_uri": "https://localhost:8080/"
        }
      },
      "execution_count": 13,
      "outputs": [
        {
          "output_type": "stream",
          "name": "stdout",
          "text": [
            "Dimensiones de X_train_pca_sin_leak: (1920000, 5)\n",
            "Dimensiones de X_test_pca_sin_leak: (480000, 5)\n"
          ]
        }
      ],
      "id": "cell16_code_content"
    },
    {
      "cell_type": "markdown",
      "source": [
        "### 4.4 Entrenamiento y Evaluación del Modelo RandomForest (Intento 2 - Sin Fuga)"
      ],
      "metadata": {
        "id": "train_eval_no_leak_markdown"
      },
      "id": "train_eval_no_leak_markdown"
    },
    {
      "cell_type": "code",
      "source": [
        "model_sin_leak = RandomForestClassifier(n_estimators=100, random_state=42, class_weight='balanced')\n",
        "model_sin_leak.fit(X_train_pca_sin_leak, y_train_sin_leak)\n",
        "\n",
        "y_pred_sin_leak = model_sin_leak.predict(X_test_pca_sin_leak)\n",
        "\n",
        "print(\"--- Evaluación del Modelo (Intento 2 - sin leakage) ---\")\n",
        "print(f\"Accuracy: {accuracy_score(y_test_sin_leak, y_pred_sin_leak):.4f}\")\n",
        "print(\"\\nClassification Report:\\n\", classification_report(y_test_sin_leak, y_pred_sin_leak))\n",
        "\n",
        "cm_sin_leak = confusion_matrix(y_test_sin_leak, y_pred_sin_leak)\n",
        "print(\"\\nConfusion Matrix:\\n\", cm_sin_leak)\n",
        "\n",
        "# Visualización de la Matriz de Confusión\n",
        "plt.figure(figsize=(8, 6))\n",
        "sns.heatmap(cm_sin_leak, annot=True, fmt='d', cmap='Blues',\n",
        "            xticklabels=['No Mora (0)', 'Mora (1)'], yticklabels=['No Mora (0)', 'Mora (1)'])\n",
        "plt.xlabel('Predicción')\n",
        "plt.ylabel('Valor Real')\n",
        "plt.title('Matriz de Confusión (Modelo sin Fuga de Datos y con PCA)')\n",
        "plt.show()"
      ],
      "metadata": {
        "id": "cell17_code_content_original_cell11_output_notebook2"
      },
      "execution_count": null,
      "outputs": [],
      "id": "cell17_code_content_original_cell11_output_notebook2"
    },
    {
      "cell_type": "markdown",
      "source": [
        "**Análisis del Intento 2:**\n",
        "Al eliminar la variable que causaba la fuga de datos, el modelo ahora produce métricas de rendimiento más realistas. El accuracy y otras métricas (precision, recall, F1-score) reflejan mejor la capacidad del modelo para generalizar a datos no vistos."
      ],
      "metadata": {
        "id": "analysis_attempt2_markdown"
      },
      "id": "analysis_attempt2_markdown"
    },
    {
      "cell_type": "markdown",
      "source": [
        "## 5. Estimación de la Importancia de las Características Originales Después de PCA\n",
        "\n",
        "Dado que el modelo RandomForest se entrenó con los componentes principales, no obtenemos directamente la importancia de las características originales. Sin embargo, podemos estimarla examinando cómo cada característica original contribuye a los componentes principales y cómo estos componentes, a su vez, son importantes para el modelo."
      ],
      "metadata": {
        "id": "feature_importance_pca_intro_markdown"
      },
      "id": "feature_importance_pca_intro_markdown"
    },
    {
      "cell_type": "code",
      "source": [
        "# Importancia de los componentes principales según el modelo RandomForest\n",
        "pca_component_importances = model_sin_leak.feature_importances_\n",
        "\n",
        "# Loadings: indican la contribución de cada característica original a cada componente principal.\n",
        "# pca_sin_leak.components_ tiene forma (n_components, n_original_features)\n",
        "original_feature_loadings_abs = np.abs(pca_sin_leak.components_)\n",
        "\n",
        "# Ponderar la contribución de cada característica a un componente por la importancia de ese componente\n",
        "weighted_loadings = original_feature_loadings_abs * pca_component_importances[:, np.newaxis]\n",
        "\n",
        "# Sumar las contribuciones ponderadas a través de todos los componentes para cada característica original\n",
        "estimated_original_feature_importances = weighted_loadings.sum(axis=0)\n",
        "\n",
        "# Normalizar para que la suma total sea 1 (opcional, para facilitar la comparación)\n",
        "estimated_original_feature_importances_normalized = estimated_original_feature_importances / estimated_original_feature_importances.sum()\n",
        "\n",
        "feature_names_sin_leak = X_sin_leak.columns\n",
        "importance_df = pd.DataFrame({\n",
        "    'Feature': feature_names_sin_leak,\n",
        "    'Estimated_Importance': estimated_original_feature_importances_normalized\n",
        "}).sort_values(by='Estimated_Importance', ascending=False)\n",
        "\n",
        "print(\"--- Importancia Estimada de Características Originales (Post-PCA) ---\")\n",
        "print(importance_df)\n",
        "\n",
        "plt.figure(figsize=(10, 7))\n",
        "sns.barplot(x='Estimated_Importance', y='Feature', data=importance_df, palette='viridis')\n",
        "plt.title('Importancia Estimada de Características Originales (Post-PCA)')\n",
        "plt.show()"
      ],
      "metadata": {
        "id": "cell18_code_content"
      },
      "execution_count": null,
      "outputs": [],
      "id": "cell18_code_content"
    },
    {
      "cell_type": "markdown",
      "source": [
        "**Interpretación de la Importancia Estimada:**\n",
        "Este análisis nos proporciona una visión de qué características originales tienen mayor influencia en la predicción del modelo, incluso después de la transformación PCA. Las características con una \"Importancia Estimada\" más alta son aquellas que contribuyen significativamente a los componentes principales que el modelo RandomForest consideró importantes."
      ],
      "metadata": {
        "id": "interpret_feature_importance_markdown"
      },
      "id": "interpret_feature_importance_markdown"
    },
    {
      "cell_type": "markdown",
      "source": [
        "## 6. Conclusión del Tutorial\n",
        "\n",
        "En este tutorial, hemos cubierto un ciclo de modelado predictivo que incluyó:\n",
        "- Preparación de datos y codificación de características.\n",
        "- Un primer intento de modelado que nos permitió identificar y entender el concepto de fuga de datos.\n",
        "- La corrección de la fuga de datos para un segundo intento de modelado más realista.\n",
        "- La aplicación de PCA para reducción de dimensionalidad, explicando cómo se seleccionan los componentes (basado en la varianza explicada).\n",
        "- El entrenamiento y evaluación de un RandomForestClassifier sobre los datos transformados por PCA.\n",
        "- Un método para estimar la importancia de las características originales después de aplicar PCA.\n",
        "\n",
        "**Aprendizajes Clave:**\n",
        "- La **vigilancia contra la fuga de datos** es crucial. Resultados \"demasiado buenos para ser verdad\" a menudo indican este problema.\n",
        "- **PCA puede ser una herramienta útil** para reducir la dimensionalidad, lo que puede ayudar a simplificar modelos, reducir el tiempo de entrenamiento y, en algunos casos, mejorar el rendimiento al eliminar ruido. Sin embargo, su efectividad debe evaluarse caso por caso.\n",
        "- La **interpretabilidad del modelo** se vuelve más compleja con PCA, pero existen técnicas para estimar la influencia de las características originales.\n",
        "\n",
        "**Próximos Pasos Posibles:**\n",
        "- **Optimización de Hiperparámetros:** Ajustar los hiperparámetros tanto del RandomForestClassifier como de PCA (ej. el número de componentes o el umbral de varianza).\n",
        "- **Comparación:** Entrenar el mismo modelo sin PCA (solo con datos escalados) y comparar el rendimiento y el tiempo de entrenamiento para evaluar el impacto real de PCA en este problema.\n",
        "- **Explorar otros Modelos:** Probar diferentes algoritmos de clasificación."
      ],
      "metadata": {
        "id": "conclusion_final_pred_pca_markdown"
      },
      "id": "conclusion_final_pred_pca_markdown"
    }
  ]
}