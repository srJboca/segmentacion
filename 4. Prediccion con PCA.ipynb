{
  "nbformat": 4,
  "nbformat_minor": 5,
  "metadata": {
    "colab": {
      "provenance": []
    },
    "kernelspec": {
      "name": "python3",
      "display_name": "Python 3"
    },
    "language_info": {
      "name": "python"
    }
  },
  "cells": [
    {
      "cell_type": "markdown",
      "source": [
        "# Tutorial: Ingeniería de Datos para Análisis de Clientes\n",
        "\n",
        "## Introducción\n",
        "\n",
        "Este notebook se centra en la ingeniería de datos para construir un conjunto de datos analítico a nivel de cliente. Partiendo de los datos de facturación (`df_analisis.parquet`) y la información de clientes (`clientes.parquet`), crearemos nuevas características que resuman el comportamiento y las propiedades de cada cliente. Este tipo de dataset es fundamental para modelos predictivos más sofisticados, segmentación avanzada, y análisis del valor del cliente (CLV).\n",
        "\n",
        "**Objetivos:**\n",
        "1.  Cargar los datos preprocesados.\n",
        "2.  Realizar ingeniería de características a partir de datos transaccionales (facturas) para crear una vista agregada por cliente.\n",
        "3.  Incorporar características estáticas del cliente.\n",
        "4.  Manejar variables categóricas y asegurar la calidad de los datos.\n",
        "5.  Crear un DataFrame final listo para análisis avanzados o modelado.\n",
        "\n",
        "## 1. Configuración del Entorno y Carga de Datos"
      ],
      "metadata": {
        "id": "intro_data_eng_markdown"
      }
    },
    {
      "cell_type": "markdown",
      "source": [
        "### 1.1 Importación de Librerías"
      ],
      "metadata": {
        "id": "import_libs_data_eng_markdown"
      }
    },
    {
      "cell_type": "code",
      "execution_count": null,
      "metadata": {
        "id": "import_libs_data_eng_code"
      },
      "outputs": [],
      "source": [
        "import pandas as pd\n",
        "import numpy as np\n",
        "import matplotlib.pyplot as plt\n",
        "import seaborn as sns\n",
        "import warnings\n",
        "\n",
        "warnings.filterwarnings('ignore')\n",
        "sns.set_style('whitegrid')\n",
        "plt.rcParams['figure.figsize'] = (12, 7)"
      ]
    },
    {
      "cell_type": "markdown",
      "source": [
        "### 1.2 Descarga y Carga de los Datos Base\n",
        "\n",
        "Cargaremos `df_analisis.parquet` (que contiene la información detallada de facturas y pagos) y `clientes.parquet` (para datos demográficos y contractuales estáticos del cliente)."
      ],
      "metadata": {
        "id": "load_base_data_data_eng_markdown"
      }
    },
    {
      "cell_type": "code",
      "execution_count": null,
      "metadata": {
        "id": "load_base_data_data_eng_code"
      },
      "outputs": [],
      "source": [
        "!wget -N https://github.com/srJboca/segmentacion/raw/refs/heads/main/archivos/df_analisis.parquet\n",
        "!wget -N https://github.com/srJboca/segmentacion/raw/refs/heads/main/archivos/clientes.parquet\n",
        "\n",
        "df_analisis = pd.read_parquet('df_analisis.parquet')\n",
        "df_clientes = pd.read_parquet('clientes.parquet')"
      ]
    },
    {
      "cell_type": "markdown",
      "source": [
        "## 2. Revisión Inicial y Preparación de `df_analisis`\n",
        "\n",
        "Asegurémonos de que las columnas de fecha estén en el formato correcto y realicemos cualquier ajuste necesario en `df_analisis` antes de la agregación."
      ],
      "metadata": {
        "id": "review_df_analisis_markdown"
      }
    },
    {
      "cell_type": "code",
      "execution_count": null,
      "metadata": {
        "id": "review_df_analisis_code"
      },
      "outputs": [],
      "source": [
        "print(\"--- Información de df_analisis ---\")\n",
        "df_analisis.info()\n",
        "\n",
        "# Columnas de fecha a convertir (asegurando que ya se hizo o haciéndolo ahora)\n",
        "date_cols_analisis = ['Fecha de Emision', 'Fecha de Pago Oportuno', 'Fecha de Lectura', \n",
        "                        'Fecha de Suspension Estimada', 'Fecha de Pago Real']\n",
        "for col in date_cols_analisis:\n",
        "    if col in df_analisis.columns:\n",
        "        df_analisis[col] = pd.to_datetime(df_analisis[col], errors='coerce')\n",
        "\n",
        "# Eliminar la columna 'mora' si existe 'Mora' (artefacto de notebooks anteriores)\n",
        "if 'mora' in df_analisis.columns and 'Mora' in df_analisis.columns:\n",
        "    df_analisis.drop(columns=['mora'], inplace=True)\n",
        "elif 'mora' in df_analisis.columns and 'Mora' not in df_analisis.columns:\n",
        "    df_analisis.rename(columns={'mora': 'Mora'}, inplace=True)\n",
        "\n",
        "print(\"\\n--- df_analisis (primeras filas después de ajustes) ---\")\n",
        "print(df_analisis.head())"
      ]
    },
    {
      "cell_type": "markdown",
      "source": [
        "## 3. Ingeniería de Características a Nivel de Cliente (Agregación)\n",
        "\n",
        "Crearemos un DataFrame donde cada fila represente un cliente único (`Numero de contrato`). Las columnas serán características agregadas que describan su comportamiento histórico.\n",
        "\n",
        "**Características a calcular:**\n",
        "* **Frecuencia:** Número total de facturas.\n",
        "* **Monetario:**\n",
        "    * Consumo total y promedio de `Consumo (m3)`.\n",
        "    * Gasto total y promedio (`Precio por Consumo`).\n",
        "    * Consumo mínimo y máximo.\n",
        "    * Desviación estándar del consumo (variabilidad).\n",
        "* **Comportamiento de Pago:**\n",
        "    * Promedio de `Dias_Emision_PagoOportuno`.\n",
        "    * Promedio de `Dias_Lectura_Emision`.\n",
        "    * Promedio de `Dias_PagoOportuno_PagoReal` (días de mora/adelanto promedio).\n",
        "    * Número total de facturas pagadas con mora.\n",
        "    * Tasa de mora (proporción de facturas pagadas con mora).\n",
        "    * Número de facturas sin pago registrado.\n",
        "* **Recencia:** (Aunque no se calcula explícitamente la fecha de la última factura aquí, podríamos inferirla indirectamente o calcularla si fuera necesario para un modelo de recencia específico)."
      ],
      "metadata": {
        "id": "customer_level_feature_eng_markdown"
      }
    },
    {
      "cell_type": "code",
      "execution_count": null,
      "metadata": {
        "id": "aggregation_code"
      },
      "outputs": [],
      "source": [
        "df_clientes_agg = df_analisis.groupby('Numero de contrato').agg(\n",
        "    Total_Facturas=('Numero de factura', 'count'),\n",
        "    Consumo_Total_m3=('Consumo (m3)', 'sum'),\n",
        "    Consumo_Promedio_m3=('Consumo (m3)', 'mean'),\n",
        "    Consumo_Min_m3=('Consumo (m3)', 'min'),\n",
        "    Consumo_Max_m3=('Consumo (m3)', 'max'),\n",
        "    Consumo_Std_m3=('Consumo (m3)', 'std'),\n",
        "    Gasto_Total=('Precio por Consumo', 'sum'),\n",
        "    Gasto_Promedio=('Precio por Consumo', 'mean'),\n",
        "    Dias_Emision_PagoOportuno_Promedio=('Dias_Emision_PagoOportuno', 'mean'),\n",
        "    Dias_Lectura_Emision_Promedio=('Dias_Lectura_Emision', 'mean'),\n",
        "    Dias_Pago_Vs_Oportuno_Promedio=('Dias_PagoOportuno_PagoReal', 'mean'), # Puede ser NaN si no hay pagos\n",
        "    Total_Facturas_Mora=('Mora', 'sum'), # Suma de 1s donde Mora es True\n",
        "    Facturas_Sin_Pago_Registrado=('Fecha de Pago Real', lambda x: x.isnull().sum())\n",
        ").reset_index()\n",
        "\n",
        "# Calcular Tasa de Mora\n",
        "df_clientes_agg['Tasa_Mora'] = df_clientes_agg['Total_Facturas_Mora'] / df_clientes_agg['Total_Facturas']\n",
        "df_clientes_agg['Tasa_Mora'].fillna(0, inplace=True) # Si no hay facturas, o no hay moras, tasa es 0\n",
        "\n",
        "print(\"--- df_clientes_agg (primeras filas) ---\")\n",
        "print(df_clientes_agg.head())\n",
        "print(\"\\n--- Información de df_clientes_agg ---\")\n",
        "df_clientes_agg.info()"
      ]
    },
    {
      "cell_type": "markdown",
      "source": [
        "## 4. Enriquecimiento con Datos Estáticos del Cliente\n",
        "\n",
        "Ahora, uniremos `df_clientes_agg` con `df_clientes` para añadir información demográfica y contractual como 'Ciudad', 'Estrato socioeconomico', y 'Fecha de Inicio del contrato'."
      ],
      "metadata": {
        "id": "enrich_static_data_markdown"
      }
    },
    {
      "cell_type": "code",
      "execution_count": null,
      "metadata": {
        "id": "enrich_static_data_code"
      },
      "outputs": [],
      "source": [
        "df_clientes_seleccion = df_clientes[[\n",
        "    'Numero de contrato', 'Ciudad', 'Estrato socioeconomico', \n",
        "    'Fecha de Inicio del contrato', 'Fecha de la Ultima revision periodica'\n",
        "]].copy()\n",
        "\n",
        "# Convertir fechas en df_clientes_seleccion\n",
        "df_clientes_seleccion['Fecha de Inicio del contrato'] = pd.to_datetime(df_clientes_seleccion['Fecha de Inicio del contrato'], errors='coerce')\n",
        "df_clientes_seleccion['Fecha de la Ultima revision periodica'] = pd.to_datetime(df_clientes_seleccion['Fecha de la Ultima revision periodica'], errors='coerce')\n",
        "\n",
        "# Unir los DataFrames\n",
        "df_clientes_completo = pd.merge(df_clientes_agg, df_clientes_seleccion, on='Numero de contrato', how='left')\n",
        "\n",
        "print(\"--- df_clientes_completo (primeras filas) ---\")\n",
        "print(df_clientes_completo.head())\n",
        "print(\"\\n--- Información de df_clientes_completo ---\")\n",
        "df_clientes_completo.info()"
      ]
    },
    {
      "cell_type": "markdown",
      "source": [
        "### 4.1 Ingeniería de Características Basadas en Fechas del Cliente\n",
        "\n",
        "* **Antigüedad del Cliente:** Tiempo desde el inicio del contrato hasta una fecha de referencia (e.g., la fecha más reciente en los datos o la fecha actual).\n",
        "* **Tiempo desde Última Revisión:** Similar, para la fecha de última revisión."
      ],
      "metadata": {
        "id": "date_feature_eng_client_markdown"
      }
    },
    {
      "cell_type": "code",
      "execution_count": null,
      "metadata": {
        "id": "date_feature_eng_client_code"
      },
      "outputs": [],
      "source": [
        "# Fecha de referencia (podría ser la fecha máxima de emisión de factura o la fecha actual)\n",
        "fecha_referencia = df_analisis['Fecha de Emision'].max() \n",
        "if pd.isna(fecha_referencia):\n",
        "    fecha_referencia = pd.Timestamp.now() # Fallback si no hay fechas de emisión\n",
        "print(f\"Fecha de referencia para cálculos de antigüedad: {fecha_referencia}\")\n",
        "\n",
        "df_clientes_completo['Antiguedad_Cliente_Dias'] = (fecha_referencia - df_clientes_completo['Fecha de Inicio del contrato']).dt.days\n",
        "df_clientes_completo['Tiempo_Desde_Ult_Revision_Dias'] = (fecha_referencia - df_clientes_completo['Fecha de la Ultima revision periodica']).dt.days\n",
        "\n",
        "print(\"\\n--- df_clientes_completo con características de antigüedad ---\")\n",
        "print(df_clientes_completo[['Numero de contrato', 'Antiguedad_Cliente_Dias', 'Tiempo_Desde_Ult_Revision_Dias']].head())"
      ]
    },
    {
      "cell_type": "markdown",
      "source": [
        "## 5. Codificación de Variables Categóricas\n",
        "\n",
        "Convertiremos variables categóricas como 'Estrato socioeconomico' y 'Ciudad' a un formato numérico para que puedan ser usadas por modelos de Machine Learning."
      ],
      "metadata": {
        "id": "categorical_encoding_markdown"
      }
    },
    {
      "cell_type": "code",
      "execution_count": null,
      "metadata": {
        "id": "categorical_encoding_code"
      },
      "outputs": [],
      "source": [
        "# Codificación Ordinal para 'Estrato socioeconomico'\n",
        "if df_clientes_completo['Estrato socioeconomico'].dtype == 'object' or isinstance(df_clientes_completo['Estrato socioeconomico'].dtype, pd.CategoricalDtype):\n",
        "    df_clientes_completo['Estrato_Num'] = df_clientes_completo['Estrato socioeconomico'].str.replace('Estrato ', '', regex=False).astype(int)\n",
        "else:\n",
        "    df_clientes_completo['Estrato_Num'] = df_clientes_completo['Estrato socioeconomico'].astype(int)\n",
        "\n",
        "# Codificación One-Hot para 'Ciudad' (si hay pocas categorías, de lo contrario considerar otras técnicas)\n",
        "if df_clientes_completo['Ciudad'].nunique() < 10: # Umbral arbitrario para decidir One-Hot\n",
        "    df_clientes_completo = pd.get_dummies(df_clientes_completo, columns=['Ciudad'], prefix='Ciudad')\n",
        "else:\n",
        "    # Para muchas ciudades, podría usarse Label Encoding (con precaución) o técnicas más avanzadas\n",
        "    print(\"Muchas categorías en 'Ciudad', se omitirá One-Hot encoding por simplicidad en este tutorial.\")\n",
        "    # Podríamos usar Label Encoding como alternativa simple:\n",
        "    # df_clientes_completo['Ciudad_Cod'] = df_clientes_completo['Ciudad'].astype('category').cat.codes\n",
        "\n",
        "print(\"\\n--- df_clientes_completo después de codificación ---\")\n",
        "print(df_clientes_completo.head())\n",
        "df_clientes_completo.info()"
      ]
    },
    {
      "cell_type": "markdown",
      "source": [
        "## 6. Selección Final de Características y Limpieza\n",
        "\n",
        "Seleccionaremos las columnas numéricas finales y manejaremos cualquier valor NaN restante (por ejemplo, por promedios de días de pago si un cliente nunca pagó, o desviación estándar si solo tuvo una factura)."
      ],
      "metadata": {
        "id": "final_feature_selection_markdown"
      }
    },
    {
      "cell_type": "code",
      "execution_count": null,
      "metadata": {
        "id": "final_feature_selection_code"
      },
      "outputs": [],
      "source": [
        "df_clientes_agg_final = df_clientes_completo.copy()\n",
        "\n",
        "# Eliminar columnas de identificadores o fechas originales si no se usarán directamente\n",
        "cols_to_drop = ['Numero de contrato', 'Estrato socioeconomico', \n",
        "                'Fecha de Inicio del contrato', 'Fecha de la Ultima revision periodica']\n",
        "# También eliminar 'Ciudad' original si se hizo one-hot encoding\n",
        "if 'Ciudad' in df_clientes_agg_final.columns and any(col.startswith('Ciudad_') for col in df_clientes_agg_final.columns):\n",
        "    cols_to_drop.append('Ciudad')\n",
        "\n",
        "df_clientes_agg_final.drop(columns=cols_to_drop, errors='ignore', inplace=True)\n",
        "\n",
        "# Manejo de NaNs restantes\n",
        "# Por ejemplo, 'Consumo_Std_m3' puede ser NaN si solo hay una factura (std de un solo valor es NaN)\n",
        "# 'Dias_Pago_Vs_Oportuno_Promedio' puede ser NaN si no hay pagos registrados\n",
        "df_clientes_agg_final['Consumo_Std_m3'].fillna(0, inplace=True) # Asumir 0 variabilidad si hay 1 factura\n",
        "\n",
        "# Para 'Dias_Pago_Vs_Oportuno_Promedio', una estrategia podría ser imputar con un valor alto (si indica mal pagador)\n",
        "# o la media/mediana del dataset, o 0 si se asume pago oportuno por defecto para no pagados.\n",
        "# Aquí, por simplicidad, imputaremos con 0 (asumiendo que si no hay registro, no se considera mora activa para este promedio)\n",
        "df_clientes_agg_final['Dias_Pago_Vs_Oportuno_Promedio'].fillna(0, inplace=True)\n",
        "\n",
        "# Imputar NaNs en Antiguedad_Cliente_Dias y Tiempo_Desde_Ult_Revision_Dias (si las fechas originales eran NaT)\n",
        "df_clientes_agg_final['Antiguedad_Cliente_Dias'].fillna(df_clientes_agg_final['Antiguedad_Cliente_Dias'].median(), inplace=True)\n",
        "df_clientes_agg_final['Tiempo_Desde_Ult_Revision_Dias'].fillna(df_clientes_agg_final['Tiempo_Desde_Ult_Revision_Dias'].median(), inplace=True)\n",
        "\n",
        "print(\"--- df_clientes_agg_final (primeras filas) ---\")\n",
        "print(df_clientes_agg_final.head())\n",
        "print(\"\\n--- Información de df_clientes_agg_final ---\")\n",
        "df_clientes_agg_final.info()\n",
        "print(\"\\n--- Valores faltantes en df_clientes_agg_final ---\")\n",
        "print(df_clientes_agg_final.isnull().sum())"
      ]
    },
    {
      "cell_type": "markdown",
      "source": [
        "## 7. Guardado del Dataset de Cliente Agregado\n",
        "\n",
        "Es una buena práctica guardar este dataset procesado para uso futuro."
      ],
      "metadata": {
        "id": "save_data_markdown"
      }
    },
    {
      "cell_type": "code",
      "execution_count": null,
      "metadata": {
        "id": "save_data_code"
      },
      "outputs": [],
      "source": [
        "df_clientes_agg_final.to_parquet('df_clientes_ingenieria.parquet', index=False)\n",
        "print(\"\\nDataset df_clientes_ingenieria.parquet guardado.\")"
      ]
    },
    {
      "cell_type": "markdown",
      "source": [
        "## 8. Conclusiones y Próximos Pasos\n",
        "\n",
        "En este notebook de ingeniería de datos, hemos:\n",
        "1.  Agregado datos transaccionales para crear un perfil a nivel de cliente, capturando su comportamiento de consumo y pago.\n",
        "2.  Enriquecido estos perfiles con información demográfica y contractual estática.\n",
        "3.  Calculado nuevas características basadas en fechas, como la antigüedad del cliente.\n",
        "4.  Codificado variables categóricas para su uso en modelos.\n",
        "5.  Realizado una limpieza final de los datos, manejando valores faltantes.\n",
        "\n",
        "El DataFrame resultante, `df_clientes_agg_final` (guardado como `df_clientes_ingenieria.parquet`), ahora contiene una vista consolidada y rica de cada cliente, lista para ser utilizada en:\n",
        "* **Modelos Predictivos:** Como predicción de abandono (churn), predicción del valor de vida del cliente (CLV), propensión a comprar nuevos servicios, etc.\n",
        "* **Segmentación Avanzada:** Aplicar algoritmos de clustering más sofisticados o usar estas características para un perfilado más profundo de los segmentos identificados previamente.\n",
        "* **Análisis de Negocio:** Generar insights para la toma de decisiones estratégicas.\n",
        "\n",
        "La ingeniería de características es un paso crucial y a menudo iterativo en el proceso de ciencia de datos. Las características creadas aquí son un buen punto de partida, y podrían expandirse aún más según las necesidades específicas del problema de negocio."
      ],
      "metadata": {
        "id": "conclusion_data_eng_markdown"
      }
    }
  ]
}