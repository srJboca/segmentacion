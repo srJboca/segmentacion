{
  "nbformat": 4,
  "nbformat_minor": 5,
  "metadata": {
    "colab": {
      "provenance": [],
      "include_colab_link": true
    },
    "kernelspec": {
      "name": "python3",
      "display_name": "Python 3"
    },
    "language_info": {
      "name": "python"
    }
  },
  "cells": [
    {
      "cell_type": "markdown",
      "metadata": {
        "id": "view-in-github",
        "colab_type": "text"
      },
      "source": [
        "<a href=\"https://colab.research.google.com/github/srJboca/segmentacion/blob/main/EN/2.%20First%20Prediction.ipynb\" target=\"_parent\"><img src=\"https://colab.research.google.com/assets/colab-badge.svg\" alt=\"Open In Colab\"/></a>"
      ]
    },
    {
      "cell_type": "markdown",
      "source": [
        "# Tutorial: Predicting Late Payments on Gas Invoices\n",
        "\n",
        "## Introduction\n",
        "\n",
        "This notebook is a continuation of the data exploration tutorial. Here, we will use the `df_analisis.parquet` DataFrame (previously cleaned and enriched) to build a Machine Learning model capable of predicting whether an invoice will be paid late (i.e., if it will be paid after the due date).\n",
        "\n",
        "**Objective:** Predict the `Mora` variable.\n",
        "\n",
        "**Steps we will follow:**\n",
        "1.  Load data and libraries.\n",
        "2.  Perform a quick review and final data preparation for modeling.\n",
        "3.  Select features and the target variable.\n",
        "4.  Encode categorical variables.\n",
        "5.  Split data into training and testing sets.\n",
        "6.  Train a Classification model (Random Forest).\n",
        "7.  Evaluate the model (Accuracy, Classification Report, Confusion Matrix).\n",
        "8.  Analyze feature importance.\n",
        "9.  Discuss results and next steps."
      ],
      "metadata": {
        "id": "intro_prediction_markdown"
      },
      "id": "intro_prediction_markdown"
    },
    {
      "cell_type": "markdown",
      "source": [
        "## 1. Environment Setup and Data Loading"
      ],
      "metadata": {
        "id": "setup_markdown"
      },
      "id": "setup_markdown"
    },
    {
      "cell_type": "markdown",
      "source": [
        "### 1.1 Importing Libraries"
      ],
      "metadata": {
        "id": "import_libs_pred_markdown"
      },
      "id": "import_libs_pred_markdown"
    },
    {
      "cell_type": "code",
      "execution_count": 1,
      "metadata": {
        "id": "import_libs_pred_code"
      },
      "outputs": [],
      "source": [
        "import pandas as pd\n",
        "import numpy as np\n",
        "import matplotlib.pyplot as plt\n",
        "import seaborn as sns\n",
        "import warnings\n",
        "\n",
        "from sklearn.model_selection import train_test_split\n",
        "from sklearn.ensemble import RandomForestClassifier\n",
        "from sklearn.metrics import accuracy_score, classification_report, confusion_matrix\n",
        "from sklearn.preprocessing import LabelEncoder # Although we'll prefer manual encoding for Estrato\n",
        "\n",
        "warnings.filterwarnings('ignore')\n",
        "sns.set_style('whitegrid')\n",
        "plt.rcParams['figure.figsize'] = (10, 6)"
      ],
      "id": "import_libs_pred_code"
    },
    {
      "cell_type": "markdown",
      "source": [
        "### 1.2 Downloading and Loading the Preprocessed DataFrame\n",
        "\n",
        "We will use the `df_analisis.parquet` file, which was the result of the data exploration and preparation notebook."
      ],
      "metadata": {
        "id": "load_preprocessed_data_markdown"
      },
      "id": "load_preprocessed_data_markdown"
    },
    {
      "cell_type": "code",
      "execution_count": 2,
      "metadata": {
        "id": "load_preprocessed_data_code",
        "outputId": "c128a33c-f725-4f93-aeee-c1b0d6955e09",
        "colab": {
          "base_uri": "https://localhost:8080/"
        }
      },
      "outputs": [
        {
          "output_type": "stream",
          "name": "stdout",
          "text": [
            "--2025-06-13 13:56:29--  https://github.com/srJboca/segmentacion/raw/refs/heads/main/archivos/df_analisis.parquet\n",
            "Resolving github.com (github.com)... 140.82.114.3\n",
            "Connecting to github.com (github.com)|140.82.114.3|:443... connected.\n",
            "HTTP request sent, awaiting response... 302 Found\n",
            "Location: https://raw.githubusercontent.com/srJboca/segmentacion/refs/heads/main/archivos/df_analisis.parquet [following]\n",
            "--2025-06-13 13:56:29--  https://raw.githubusercontent.com/srJboca/segmentacion/refs/heads/main/archivos/df_analisis.parquet\n",
            "Resolving raw.githubusercontent.com (raw.githubusercontent.com)... 185.199.108.133, 185.199.109.133, 185.199.110.133, ...\n",
            "Connecting to raw.githubusercontent.com (raw.githubusercontent.com)|185.199.108.133|:443... connected.\n",
            "HTTP request sent, awaiting response... 200 OK\n",
            "Length: 75105565 (72M) [application/octet-stream]\n",
            "Saving to: ‘df_analisis.parquet’\n",
            "\n",
            "df_analisis.parquet 100%[===================>]  71.63M  98.3MB/s    in 0.7s    \n",
            "\n",
            "Last-modified header missing -- time-stamps turned off.\n",
            "2025-06-13 13:56:31 (98.3 MB/s) - ‘df_analisis.parquet’ saved [75105565/75105565]\n",
            "\n"
          ]
        }
      ],
      "source": [
        "!wget -N https://github.com/srJboca/segmentacion/raw/refs/heads/main/archivos/df_analisis.parquet\n",
        "df_analysis_original = pd.read_parquet('df_analisis.parquet')"
      ],
      "id": "load_preprocessed_data_code"
    },
    {
      "cell_type": "markdown",
      "source": [
        "## 2. Quick Review and Final Data Preparation"
      ],
      "metadata": {
        "id": "data_review_prep_markdown"
      },
      "id": "data_review_prep_markdown"
    },
    {
      "cell_type": "code",
      "execution_count": 3,
      "metadata": {
        "id": "data_review_code",
        "outputId": "0fcd78a7-68a9-4822-ea23-d6dabb0fe283",
        "colab": {
          "base_uri": "https://localhost:8080/"
        }
      },
      "outputs": [
        {
          "output_type": "stream",
          "name": "stdout",
          "text": [
            "--- First 5 rows of df_analysis_original ---\n",
            "                      Numero de factura                    Numero de contrato  \\\n",
            "0  886199bb-77c8-43e2-86a0-a53348fa2706  ba70b7fa-aef4-492a-9d45-13a0c63ce47c   \n",
            "1  886199bb-77c8-43e2-86a0-a53348fa2706  ba70b7fa-aef4-492a-9d45-13a0c63ce47c   \n",
            "2  6848b692-4212-4738-a35c-1f8c0d383e3d  ba70b7fa-aef4-492a-9d45-13a0c63ce47c   \n",
            "3  ad91361e-9b8d-491e-bef9-e690e9b28faf  ba70b7fa-aef4-492a-9d45-13a0c63ce47c   \n",
            "4  e77f7ac6-734b-4856-a5c3-1a32d845e6b6  ba70b7fa-aef4-492a-9d45-13a0c63ce47c   \n",
            "\n",
            "  Fecha de Emision  Consumo (m3) Fecha de Pago Oportuno Fecha de Lectura  \\\n",
            "0       2021-01-06         11.51             2021-01-19       2020-12-28   \n",
            "1       2021-01-06         11.51             2021-01-19       2020-12-28   \n",
            "2       2021-03-02         10.26             2021-03-17       2021-02-20   \n",
            "3       2021-04-01         14.96             2021-04-11       2021-03-27   \n",
            "4       2021-05-10         14.89             2021-05-21       2021-05-05   \n",
            "\n",
            "  Fecha de Suspension Estimada        Ciudad    Estrato  Precio m3 (COP)  \\\n",
            "0                   2021-01-22  Barranquilla  Estrato 1              588   \n",
            "1                   2021-01-22  Barranquilla  Estrato 1              588   \n",
            "2                   2021-03-20  Barranquilla  Estrato 1              588   \n",
            "3                   2021-04-14  Barranquilla  Estrato 1              637   \n",
            "4                   2021-05-26  Barranquilla  Estrato 1              637   \n",
            "\n",
            "  Fecha de Pago Real  Precio por Consumo  Dias_Emision_PagoOportuno  \\\n",
            "0         2021-01-15             6767.88                         13   \n",
            "1         2021-01-15             6767.88                         13   \n",
            "2         2021-03-16             6032.88                         15   \n",
            "3         2021-04-05             9529.52                         10   \n",
            "4         2021-05-11             9484.93                         11   \n",
            "\n",
            "   Dias_Lectura_Emision  Dias_PagoOportuno_PagoReal  mora  Mora  \n",
            "0                     9                          -4     0     0  \n",
            "1                     9                          -4     0     0  \n",
            "2                    10                          -1     0     0  \n",
            "3                     5                          -6     0     0  \n",
            "4                     5                         -10     0     0  \n",
            "\n",
            "--- Information of df_analysis_original ---\n",
            "<class 'pandas.core.frame.DataFrame'>\n",
            "RangeIndex: 2400000 entries, 0 to 2399999\n",
            "Data columns (total 17 columns):\n",
            " #   Column                        Dtype         \n",
            "---  ------                        -----         \n",
            " 0   Numero de factura             object        \n",
            " 1   Numero de contrato            object        \n",
            " 2   Fecha de Emision              datetime64[ns]\n",
            " 3   Consumo (m3)                  float64       \n",
            " 4   Fecha de Pago Oportuno        datetime64[ns]\n",
            " 5   Fecha de Lectura              datetime64[ns]\n",
            " 6   Fecha de Suspension Estimada  object        \n",
            " 7   Ciudad                        object        \n",
            " 8   Estrato                       object        \n",
            " 9   Precio m3 (COP)               int64         \n",
            " 10  Fecha de Pago Real            datetime64[ns]\n",
            " 11  Precio por Consumo            float64       \n",
            " 12  Dias_Emision_PagoOportuno     int64         \n",
            " 13  Dias_Lectura_Emision          int64         \n",
            " 14  Dias_PagoOportuno_PagoReal    int64         \n",
            " 15  mora                          int64         \n",
            " 16  Mora                          int64         \n",
            "dtypes: datetime64[ns](4), float64(2), int64(6), object(5)\n",
            "memory usage: 311.3+ MB\n",
            "\n",
            "--- Present columns ---\n",
            "['Numero de factura', 'Numero de contrato', 'Fecha de Emision', 'Consumo (m3)', 'Fecha de Pago Oportuno', 'Fecha de Lectura', 'Fecha de Suspension Estimada', 'Ciudad', 'Estrato', 'Precio m3 (COP)', 'Fecha de Pago Real', 'Precio por Consumo', 'Dias_Emision_PagoOportuno', 'Dias_Lectura_Emision', 'Dias_PagoOportuno_PagoReal', 'mora', 'Mora']\n"
          ]
        }
      ],
      "source": [
        "print(\"--- First 5 rows of df_analysis_original ---\")\n",
        "print(df_analysis_original.head())\n",
        "print(\"\\n--- Information of df_analysis_original ---\")\n",
        "df_analysis_original.info()\n",
        "print(\"\\n--- Present columns ---\")\n",
        "print(df_analysis_original.columns.tolist())"
      ],
      "id": "data_review_code"
    },
    {
      "cell_type": "markdown",
      "source": [
        "**Observations:**\n",
        "* The loaded DataFrame (`df_analisis.parquet`) might have two columns related to late payments: `mora` (lowercase) and `Mora` (uppercase). This is an artifact of how the file was saved in the previous notebook. The `Mora` (uppercase) column was the one we created with the defined logic (1 if `Dias_PagoOportuno_PagoReal > 0`, 0 otherwise).\n",
        "* We will ensure we use the correct `Mora` column and remove the redundant one if it exists."
      ],
      "metadata": {
        "id": "obs_mora_column_markdown"
      },
      "id": "obs_mora_column_markdown"
    },
    {
      "cell_type": "code",
      "execution_count": 4,
      "metadata": {
        "id": "handle_mora_column_code",
        "outputId": "7204ecb9-4d45-4d96-8bfd-48d41e2269fe",
        "colab": {
          "base_uri": "https://localhost:8080/"
        }
      },
      "outputs": [
        {
          "output_type": "stream",
          "name": "stdout",
          "text": [
            "Both 'mora' and 'Mora' columns exist. Will proceed to use 'Mora' and drop 'mora'.\n",
            "\n",
            "--- Columns after handling 'mora'/'Mora' ---\n",
            "['Numero de factura', 'Numero de contrato', 'Fecha de Emision', 'Consumo (m3)', 'Fecha de Pago Oportuno', 'Fecha de Lectura', 'Fecha de Suspension Estimada', 'Ciudad', 'Estrato', 'Precio m3 (COP)', 'Fecha de Pago Real', 'Precio por Consumo', 'Dias_Emision_PagoOportuno', 'Dias_Lectura_Emision', 'Dias_PagoOportuno_PagoReal', 'Mora']\n"
          ]
        }
      ],
      "source": [
        "df_modeling = df_analysis_original.copy()\n",
        "\n",
        "# Check if both 'mora' and 'Mora' columns exist\n",
        "if 'mora' in df_modeling.columns and 'Mora' in df_modeling.columns:\n",
        "    print(\"Both 'mora' and 'Mora' columns exist. Will proceed to use 'Mora' and drop 'mora'.\")\n",
        "    # Before dropping, we could verify if they are identical or which one is correct\n",
        "    # We assume 'Mora' (uppercase) is the one intentionally calculated.\n",
        "    df_modeling = df_modeling.drop(columns=['mora'])\n",
        "elif 'mora' in df_modeling.columns and 'Mora' not in df_modeling.columns:\n",
        "    print(\"Only the 'mora' column exists. It will be renamed to 'Mora'.\")\n",
        "    df_modeling = df_modeling.rename(columns={'mora': 'Mora'})\n",
        "\n",
        "print(\"\\n--- Columns after handling 'mora'/'Mora' ---\")\n",
        "print(df_modeling.columns.tolist())"
      ],
      "id": "handle_mora_column_code"
    },
    {
      "cell_type": "markdown",
      "source": [
        "## 3. Feature and Target Variable Selection"
      ],
      "metadata": {
        "id": "feature_selection_markdown"
      },
      "id": "feature_selection_markdown"
    },
    {
      "cell_type": "markdown",
      "source": [
        "We will select the features that we will use to predict the `Mora` variable (target).\n",
        "\n",
        "**Important Note on Data Leakage:**\n",
        "The `Dias_PagoOportuno_PagoReal` column is calculated using `Fecha de Pago Real` and `Fecha de Pago Oportuno`. The `Mora` variable is defined directly from the sign of `Dias_PagoOportuno_PagoReal`. Therefore, **we must NOT use `Dias_PagoOportuno_PagoReal` as a feature** to predict `Mora`, as this would constitute data leakage and the model would learn a trivial relationship, showing artificially perfect performance.\n",
        "\n",
        "Initial candidate features from the original notebook:\n",
        "`Consumo (m3)`, `Estrato`, `Precio por Consumo`, `Dias_Emision_PagoOportuno`, `Dias_Lectura_Emision`."
      ],
      "metadata": {
        "id": "data_leakage_warning_markdown"
      },
      "id": "data_leakage_warning_markdown"
    },
    {
      "cell_type": "code",
      "execution_count": 5,
      "metadata": {
        "id": "feature_selection_code",
        "outputId": "9c7297e3-de16-4277-beea-d2b127f49e40",
        "colab": {
          "base_uri": "https://localhost:8080/"
        }
      },
      "outputs": [
        {
          "output_type": "stream",
          "name": "stdout",
          "text": [
            "--- DataFrame for prediction (df_prediction) ---\n",
            "   Consumo (m3)    Estrato  Precio por Consumo  Dias_Emision_PagoOportuno  \\\n",
            "0         11.51  Estrato 1             6767.88                         13   \n",
            "1         11.51  Estrato 1             6767.88                         13   \n",
            "2         10.26  Estrato 1             6032.88                         15   \n",
            "3         14.96  Estrato 1             9529.52                         10   \n",
            "4         14.89  Estrato 1             9484.93                         11   \n",
            "\n",
            "   Dias_Lectura_Emision  Mora  \n",
            "0                     9     0  \n",
            "1                     9     0  \n",
            "2                    10     0  \n",
            "3                     5     0  \n",
            "4                     5     0  \n",
            "\n",
            "--- Data types in df_prediction ---\n",
            "<class 'pandas.core.frame.DataFrame'>\n",
            "RangeIndex: 2400000 entries, 0 to 2399999\n",
            "Data columns (total 6 columns):\n",
            " #   Column                     Dtype  \n",
            "---  ------                     -----  \n",
            " 0   Consumo (m3)               float64\n",
            " 1   Estrato                    object \n",
            " 2   Precio por Consumo         float64\n",
            " 3   Dias_Emision_PagoOportuno  int64  \n",
            " 4   Dias_Lectura_Emision       int64  \n",
            " 5   Mora                       int64  \n",
            "dtypes: float64(2), int64(3), object(1)\n",
            "memory usage: 109.9+ MB\n"
          ]
        }
      ],
      "source": [
        "# Columns for the model, excluding identifiers and the column that causes leakage\n",
        "selected_features = [\n",
        "    'Consumo (m3)',\n",
        "    'Estrato', # This is the original socioeconomic stratum column.\n",
        "    'Precio por Consumo',\n",
        "    'Dias_Emision_PagoOportuno',\n",
        "    'Dias_Lectura_Emision'\n",
        "]\n",
        "target = 'Mora'\n",
        "\n",
        "# Ensure that 'Estrato socioeconomico' is named 'Estrato' if necessary\n",
        "if 'Estrato socioeconomico' in df_modeling.columns and 'Estrato' not in selected_features:\n",
        "    if 'Estrato' not in df_modeling.columns: # Only rename if 'Estrato' doesn't exist\n",
        "         df_modeling = df_modeling.rename(columns={'Estrato socioeconomico': 'Estrato'})\n",
        "    elif 'Estrato' in df_modeling.columns and 'Estrato socioeconomico' in df_modeling.columns:\n",
        "         # If both exist, and 'Estrato' is from df_gas_prices, use 'Estrato socioeconomico'\n",
        "         # and ensure that 'Estrato' in selected_features refers to the correct one.\n",
        "         # For simplicity, we assume that df_analisis.parquet already has the correct 'Estrato' column (the socioeconomic one).\n",
        "         pass # Assume 'Estrato' is already the correct socioeconomic column.\n",
        "\n",
        "df_prediction = df_modeling[selected_features + [target]].copy()\n",
        "\n",
        "print(\"--- DataFrame for prediction (df_prediction) ---\")\n",
        "print(df_prediction.head())\n",
        "print(\"\\n--- Data types in df_prediction ---\")\n",
        "df_prediction.info()"
      ],
      "id": "feature_selection_code"
    },
    {
      "cell_type": "markdown",
      "source": [
        "## 4. Preprocessing for the Model"
      ],
      "metadata": {
        "id": "preprocessing_markdown"
      },
      "id": "preprocessing_markdown"
    },
    {
      "cell_type": "markdown",
      "source": [
        "### 4.1 Encoding the 'Estrato' Variable\n",
        "\n",
        "The `Estrato` variable is categorical (e.g., 'Estrato 1', 'Estrato 2'). Machine Learning models require numerical inputs. We will convert 'Estrato' to an ordinal numerical type, as the strata have an inherent order."
      ],
      "metadata": {
        "id": "encode_estrato_markdown"
      },
      "id": "encode_estrato_markdown"
    },
    {
      "cell_type": "code",
      "execution_count": 6,
      "metadata": {
        "id": "encode_estrato_code",
        "outputId": "d2a54fb2-c22c-4f91-8052-04c88aeb8c86",
        "colab": {
          "base_uri": "https://localhost:8080/"
        }
      },
      "outputs": [
        {
          "output_type": "stream",
          "name": "stdout",
          "text": [
            "Encoding 'Estrato' from object/categorical to numeric type.\n",
            "\n",
            "--- 'Estrato' after encoding ---\n",
            "   Estrato\n",
            "0        1\n",
            "1        1\n",
            "2        1\n",
            "3        1\n",
            "4        1\n",
            "Estrato\n",
            "2    844080\n",
            "3    600912\n",
            "1    596256\n",
            "4    240576\n",
            "5     60192\n",
            "6     57984\n",
            "Name: count, dtype: int64\n"
          ]
        }
      ],
      "source": [
        "if df_prediction['Estrato'].dtype == 'object' or isinstance(df_prediction['Estrato'].dtype, pd.CategoricalDtype):\n",
        "    print(\"Encoding 'Estrato' from object/categorical to numeric type.\")\n",
        "    try:\n",
        "        df_prediction['Estrato'] = df_prediction['Estrato'].str.replace('Estrato ', '', regex=False).astype(int)\n",
        "    except AttributeError:\n",
        "        # If it's already numeric (e.g., if the parquet has it as a number but read as category)\n",
        "        df_prediction['Estrato'] = df_prediction['Estrato'].astype(str).str.replace('Estrato ', '', regex=False).astype(int)\n",
        "else:\n",
        "    print(\"'Estrato' is already numeric.\")\n",
        "    df_prediction['Estrato'] = df_prediction['Estrato'].astype(int) # Ensure it is int\n",
        "\n",
        "print(\"\\n--- 'Estrato' after encoding ---\")\n",
        "print(df_prediction[['Estrato']].head())\n",
        "print(df_prediction['Estrato'].value_counts())"
      ],
      "id": "encode_estrato_code"
    },
    {
      "cell_type": "markdown",
      "source": [
        "### 4.2 Handling Missing Values (NaN)\n",
        "\n",
        "We check for missing values in the selected features. For this tutorial, if there are only a few, we might drop them or use simple imputation. Models like RandomForest can handle NaNs in some implementations, but it's good practice to address them."
      ],
      "metadata": {
        "id": "handle_nan_markdown"
      },
      "id": "handle_nan_markdown"
    },
    {
      "cell_type": "code",
      "execution_count": 7,
      "metadata": {
        "id": "handle_nan_code",
        "outputId": "86bc306a-bb4c-4550-e253-7555bc4b92c3",
        "colab": {
          "base_uri": "https://localhost:8080/"
        }
      },
      "outputs": [
        {
          "output_type": "stream",
          "name": "stdout",
          "text": [
            "--- Missing values in df_prediction before handling ---\n",
            "Consumo (m3)                 0\n",
            "Estrato                      0\n",
            "Precio por Consumo           0\n",
            "Dias_Emision_PagoOportuno    0\n",
            "Dias_Lectura_Emision         0\n",
            "Mora                         0\n",
            "dtype: int64\n",
            "\n",
            "Original shape: (2400000, 6)\n",
            "Shape after dropna: (2400000, 6)\n",
            "\n",
            "--- Missing values in df_prediction_final after handling ---\n",
            "Consumo (m3)                 0\n",
            "Estrato                      0\n",
            "Precio por Consumo           0\n",
            "Dias_Emision_PagoOportuno    0\n",
            "Dias_Lectura_Emision         0\n",
            "Mora                         0\n",
            "dtype: int64\n"
          ]
        }
      ],
      "source": [
        "print(\"--- Missing values in df_prediction before handling ---\")\n",
        "print(df_prediction.isnull().sum())\n",
        "\n",
        "# Simple strategy: drop rows with NaNs in features or the target\n",
        "# (Consider imputation for a more complex real-world case)\n",
        "df_prediction_final = df_prediction.dropna()\n",
        "\n",
        "print(f\"\\nOriginal shape: {df_prediction.shape}\")\n",
        "print(f\"Shape after dropna: {df_prediction_final.shape}\")\n",
        "print(\"\\n--- Missing values in df_prediction_final after handling ---\")\n",
        "print(df_prediction_final.isnull().sum())"
      ],
      "id": "handle_nan_code"
    },
    {
      "cell_type": "markdown",
      "source": [
        "### 4.3 Defining X (Features) and y (Target Variable)"
      ],
      "metadata": {
        "id": "define_X_y_markdown"
      },
      "id": "define_X_y_markdown"
    },
    {
      "cell_type": "code",
      "execution_count": 8,
      "metadata": {
        "id": "define_X_y_code",
        "outputId": "aadaa162-a270-4c3f-8a89-35cb26c05074",
        "colab": {
          "base_uri": "https://localhost:8080/"
        }
      },
      "outputs": [
        {
          "output_type": "stream",
          "name": "stdout",
          "text": [
            "--- Features (X) ---\n",
            "   Consumo (m3)  Estrato  Precio por Consumo  Dias_Emision_PagoOportuno  \\\n",
            "0         11.51        1             6767.88                         13   \n",
            "1         11.51        1             6767.88                         13   \n",
            "2         10.26        1             6032.88                         15   \n",
            "3         14.96        1             9529.52                         10   \n",
            "4         14.89        1             9484.93                         11   \n",
            "\n",
            "   Dias_Lectura_Emision  \n",
            "0                     9  \n",
            "1                     9  \n",
            "2                    10  \n",
            "3                     5  \n",
            "4                     5  \n",
            "\n",
            "--- Target Variable (y) ---\n",
            "0    0\n",
            "1    0\n",
            "2    0\n",
            "3    0\n",
            "4    0\n",
            "Name: Mora, dtype: int64\n",
            "\n",
            "Distribution of the target variable 'Mora':\n",
            "Mora\n",
            "0    0.74985\n",
            "1    0.25015\n",
            "Name: proportion, dtype: float64\n"
          ]
        }
      ],
      "source": [
        "X = df_prediction_final.drop(target, axis=1)\n",
        "y = df_prediction_final[target]\n",
        "\n",
        "print(\"--- Features (X) ---\")\n",
        "print(X.head())\n",
        "print(\"\\n--- Target Variable (y) ---\")\n",
        "print(y.head())\n",
        "print(\"\\nDistribution of the target variable 'Mora':\")\n",
        "print(y.value_counts(normalize=True))"
      ],
      "id": "define_X_y_code"
    },
    {
      "cell_type": "markdown",
      "source": [
        "The distribution of the target variable `Mora` tells us if there is a class imbalance. If one class is much more frequent than the other, we might need special techniques (like `class_weight='balanced'` in the model or over/under-sampling)."
      ],
      "metadata": {
        "id": "class_imbalance_note_markdown"
      },
      "id": "class_imbalance_note_markdown"
    },
    {
      "cell_type": "markdown",
      "source": [
        "## 5. Splitting Data: Training and Testing"
      ],
      "metadata": {
        "id": "train_test_split_markdown"
      },
      "id": "train_test_split_markdown"
    },
    {
      "cell_type": "markdown",
      "source": [
        "We split the data into a training set (for the model to learn from) and a testing set (to evaluate its performance on unseen data).\n",
        "We use `stratify=y` to ensure that the proportion of classes in `Mora` is similar in both sets."
      ],
      "metadata": {
        "id": "explain_tts_markdown"
      },
      "id": "explain_tts_markdown"
    },
    {
      "cell_type": "code",
      "execution_count": 9,
      "metadata": {
        "id": "train_test_split_code",
        "outputId": "2d2f780d-2a5f-4413-a167-260f5acc8f59",
        "colab": {
          "base_uri": "https://localhost:8080/"
        }
      },
      "outputs": [
        {
          "output_type": "stream",
          "name": "stdout",
          "text": [
            "Size of X_train: (1920000, 5)\n",
            "Size of X_test: (480000, 5)\n",
            "Size of y_train: (1920000,)\n",
            "Size of y_test: (480000,)\n",
            "\n",
            "Proportion of 'Mora' in y_train:\n",
            "Mora\n",
            "0    0.749851\n",
            "1    0.250149\n",
            "Name: proportion, dtype: float64\n",
            "\n",
            "Proportion of 'Mora' in y_test:\n",
            "Mora\n",
            "0    0.74985\n",
            "1    0.25015\n",
            "Name: proportion, dtype: float64\n"
          ]
        }
      ],
      "source": [
        "X_train, X_test, y_train, y_test = train_test_split(X, y, test_size=0.2, random_state=42, stratify=y)\n",
        "\n",
        "print(f\"Size of X_train: {X_train.shape}\")\n",
        "print(f\"Size of X_test: {X_test.shape}\")\n",
        "print(f\"Size of y_train: {y_train.shape}\")\n",
        "print(f\"Size of y_test: {y_test.shape}\")\n",
        "\n",
        "print(\"\\nProportion of 'Mora' in y_train:\")\n",
        "print(y_train.value_counts(normalize=True))\n",
        "print(\"\\nProportion of 'Mora' in y_test:\")\n",
        "print(y_test.value_counts(normalize=True))"
      ],
      "id": "train_test_split_code"
    },
    {
      "cell_type": "markdown",
      "source": [
        "## 6. Training the Model (Random Forest Classifier)"
      ],
      "metadata": {
        "id": "model_training_markdown"
      },
      "id": "model_training_markdown"
    },
    {
      "cell_type": "markdown",
      "source": [
        "We will use a `RandomForestClassifier`. It's a robust and popular ensemble model.\n",
        "The `class_weight='balanced'` parameter helps the model treat the classes more equally if there is an imbalance."
      ],
      "metadata": {
        "id": "explain_rf_markdown"
      },
      "id": "explain_rf_markdown"
    },
    {
      "cell_type": "code",
      "execution_count": 10,
      "metadata": {
        "id": "model_training_code",
        "outputId": "ffb7008d-daf0-4c49-de74-6a8a33991ee5",
        "colab": {
          "base_uri": "https://localhost:8080/"
        }
      },
      "outputs": [
        {
          "output_type": "stream",
          "name": "stdout",
          "text": [
            "RandomForestClassifier model trained.\n"
          ]
        }
      ],
      "source": [
        "model = RandomForestClassifier(n_estimators=100, random_state=42, class_weight='balanced')\n",
        "model.fit(X_train, y_train)\n",
        "print(\"RandomForestClassifier model trained.\")"
      ],
      "id": "model_training_code"
    },
    {
      "cell_type": "markdown",
      "source": [
        "## 7. Evaluating the Model"
      ],
      "metadata": {
        "id": "model_evaluation_markdown"
      },
      "id": "model_evaluation_markdown"
    },
    {
      "cell_type": "markdown",
      "source": [
        "We will evaluate the model on the test set using several metrics:"
      ],
      "metadata": {
        "id": "eval_intro_markdown"
      },
      "id": "eval_intro_markdown"
    },
    {
      "cell_type": "code",
      "execution_count": 11,
      "metadata": {
        "id": "model_evaluation_code",
        "outputId": "334938a2-caa9-4be7-d46b-d6c398ace0d0",
        "colab": {
          "base_uri": "https://localhost:8080/",
          "height": 859
        }
      },
      "outputs": [
        {
          "output_type": "stream",
          "name": "stdout",
          "text": [
            "--- Evaluation Results ---\n",
            "Accuracy: 0.6624\n",
            "\n",
            "Classification Report:\n",
            "              precision    recall  f1-score   support\n",
            "\n",
            "           0       0.76      0.80      0.78    359928\n",
            "           1       0.30      0.26      0.28    120072\n",
            "\n",
            "    accuracy                           0.66    480000\n",
            "   macro avg       0.53      0.53      0.53    480000\n",
            "weighted avg       0.65      0.66      0.65    480000\n",
            "\n",
            "\n",
            "Confusion Matrix:\n",
            "[[287020  72908]\n",
            " [ 89134  30938]]\n"
          ]
        },
        {
          "output_type": "display_data",
          "data": {
            "text/plain": [
              "<Figure size 800x600 with 2 Axes>"
            ],
            "image/png": "[encoded data removed]"
          },
          "metadata": {}
        }
      ],
      "source": [
        "y_pred = model.predict(X_test)\n",
        "\n",
        "print(\"--- Evaluation Results ---\")\n",
        "accuracy = accuracy_score(y_test, y_pred)\n",
        "print(f\"Accuracy: {accuracy:.4f}\")\n",
        "\n",
        "print(\"\\nClassification Report:\")\n",
        "print(classification_report(y_test, y_pred))\n",
        "\n",
        "print(\"\\nConfusion Matrix:\")\n",
        "cm = confusion_matrix(y_test, y_pred)\n",
        "print(cm)\n",
        "\n",
        "# Visualizing the Confusion Matrix\n",
        "plt.figure(figsize=(8, 6))\n",
        "sns.heatmap(cm, annot=True, fmt='d', cmap='Blues', xticklabels=['Not Late (0)', 'Late (1)'], yticklabels=['Not Late (0)', 'Late (1)'])\n",
        "plt.xlabel('Predicted')\n",
        "plt.ylabel('Actual')\n",
        "plt.title('Confusion Matrix')\n",
        "plt.show()"
      ],
      "id": "model_evaluation_code"
    },
    {
      "cell_type": "markdown",
      "source": [
        "**Interpreting the Metrics:**\n",
        "* **Accuracy:** Proportion of correct predictions. Can be misleading if classes are imbalanced.\n",
        "* **Classification Report:**\n",
        "    * **Precision:** Of all the predictions for a class, how many were correct? (TP / (TP + FP)). Important if the cost of a False Positive is high.\n",
        "    * **Recall:** Of all the actual instances of a class, how many were correctly identified? (TP / (TP + FN)). Important if the cost of a False Negative is high (e.g., failing to detect an invoice that will be paid late).\n",
        "    * **F1-score:** Harmonic mean of Precision and Recall. A good overall indicator of performance, especially with imbalanced classes.\n",
        "    * **Support:** The number of actual instances of each class.\n",
        "* **Confusion Matrix:**\n",
        "    * **True Negatives (TN):** 'Not Late' cases correctly predicted as 'Not Late'.\n",
        "    * **False Positives (FP):** 'Not Late' cases incorrectly predicted as 'Late' (Type I Error).\n",
        "    * **False Negatives (FN):** 'Late' cases incorrectly predicted as 'Not Late' (Type II Error).\n",
        "    * **True Positives (TP):** 'Late' cases correctly predicted as 'Late'."
      ],
      "metadata": {
        "id": "metrics_interpretation_markdown"
      },
      "id": "metrics_interpretation_markdown"
    },
    {
      "cell_type": "markdown",
      "source": [
        "## 8. Feature Importance"
      ],
      "metadata": {
        "id": "feature_importance_markdown"
      },
      "id": "feature_importance_markdown"
    },
    {
      "cell_type": "markdown",
      "source": [
        "Random Forest allows us to see which features were most influential in the prediction."
      ],
      "metadata": {
        "id": "explain_feat_imp_markdown"
      },
      "id": "explain_feat_imp_markdown"
    },
    {
      "cell_type": "code",
      "execution_count": 12,
      "metadata": {
        "id": "feature_importance_code",
        "outputId": "74870db7-cb34-4d8a-de4f-0efc16a8e914",
        "colab": {
          "base_uri": "https://localhost:8080/",
          "height": 668
        }
      },
      "outputs": [
        {
          "output_type": "display_data",
          "data": {
            "text/plain": [
              "<Figure size 1000x600 with 1 Axes>"
            ],
            "image/png": "[encoded data removed]"
          },
          "metadata": {}
        },
        {
          "output_type": "stream",
          "name": "stdout",
          "text": [
            "                     Feature  Importance\n",
            "2         Precio por Consumo    0.509303\n",
            "0               Consumo (m3)    0.417888\n",
            "4       Dias_Lectura_Emision    0.028493\n",
            "3  Dias_Emision_PagoOportuno    0.028252\n",
            "1                    Estrato    0.016063\n"
          ]
        }
      ],
      "source": [
        "importances = model.feature_importances_\n",
        "feature_names = X.columns\n",
        "feature_importance_df = pd.DataFrame({'Feature': feature_names, 'Importance': importances})\n",
        "feature_importance_df = feature_importance_df.sort_values(by='Importance', ascending=False)\n",
        "\n",
        "plt.figure(figsize=(10, 6))\n",
        "sns.barplot(x='Importance', y='Feature', data=feature_importance_df)\n",
        "plt.title('Feature Importance for Predicting Late Payment')\n",
        "plt.show()\n",
        "\n",
        "print(feature_importance_df)"
      ],
      "id": "feature_importance_code"
    },
    {
      "cell_type": "markdown",
      "source": [
        "**Interpreting Feature Importance:**\n",
        "This shows us which factors the model considers most decisive in determining whether an invoice will be paid late. It can guide business decisions or future refinements of the model."
      ],
      "metadata": {
        "id": "interpret_feat_imp_markdown"
      },
      "id": "interpret_feat_imp_markdown"
    },
    {
      "cell_type": "markdown",
      "source": [
        "## 9. Discussion of Results and Next Steps\n",
        "\n",
        "**Questions for Discussion:**\n",
        "* Is the accuracy good? How are precision/recall for the 'Mora=1' class? Which features are the most important?\n",
        "* Is the model (Random Forest) good, average, or poor for predicting late payments under the current conditions and with the selected features?\n",
        "* It's crucial to remember that data leakage was avoided by not including `Dias_PagoOportuno_PagoReal`.\n",
        "\n",
        "**Limitations and Considerations:**\n",
        "* **Data Quality:** The model's performance depends on the quality and representativeness of the input data.\n",
        "* **Feature Engineering:** More features could be explored (e.g., customer payment history, variations in consumption, etc.).\n",
        "* **Class Balance:** If the 'Mora=1' class is a minority, accuracy may not be the best metric. F1-score, recall for the minority class, or AUC-ROC (not calculated here) are more informative.\n",
        "* **Simplification:** A simple strategy for handling NaNs was used. More sophisticated methods might be necessary.\n",
        "\n",
        "**Potential Next Steps:**\n",
        "* **Hyperparameter Tuning:** Use techniques like GridSearchCV or RandomizedSearchCV to find the best combination of hyperparameters for the RandomForest.\n",
        "* **Try Other Models:** Evaluate other algorithms (e.g., Logistic Regression, Gradient Boosting, SVM).\n",
        "* **Advanced Feature Engineering:** Create more complex or domain-specific variables.\n",
        "* **Error Analysis:** Investigate the cases where the model makes mistakes (False Positives and False Negatives) to understand its weaknesses.\n",
        "* **Deployment to Production:** If the model is satisfactory, plan how it would be integrated into a system to make predictions on new invoices.\n",
        "\n",
        "This tutorial provides a foundation for late payment prediction. Modeling is an iterative process of experimentation and improvement."
      ],
      "metadata": {
        "id": "discussion_conclusion_markdown"
      },
      "id": "discussion_conclusion_markdown"
    }
  ]
}