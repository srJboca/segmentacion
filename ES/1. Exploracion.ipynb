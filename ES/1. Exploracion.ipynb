{
  "nbformat": 4,
  "nbformat_minor": 5,
  "metadata": {
    "colab": {
      "provenance": [],
      "include_colab_link": true
    },
    "kernelspec": {
      "name": "python3",
      "display_name": "Python 3"
    },
    "language_info": {
      "name": "python"
    }
  },
  "cells": [
    {
      "cell_type": "markdown",
      "metadata": {
        "id": "view-in-github",
        "colab_type": "text"
      },
      "source": [
        "<a href=\"https://colab.research.google.com/github/srJboca/segmentacion/blob/main/ES/1.%20Exploracion.ipynb\" target=\"_parent\"><img src=\"https://colab.research.google.com/assets/colab-badge.svg\" alt=\"Open In Colab\"/></a>"
      ]
    },
    {
      "cell_type": "markdown",
      "source": [
        "# Tutorial: Exploración de Datos de Clientes y Facturación de Gas\n",
        "\n",
        "## Introducción\n",
        "\n",
        "Bienvenido a este tutorial sobre exploración de datos. Trabajaremos con un conjunto de datos que simula la información de una empresa de distribución de gas. El objetivo es limpiar, combinar y explorar estos datos para entender mejor a los clientes, sus consumos y comportamientos de pago. Este proceso es fundamental antes de realizar tareas más avanzadas como la segmentación de clientes, modelado predictivo de consumo o análisis de morosidad.\n",
        "\n",
        "Los datos se dividen en cuatro archivos:\n",
        "1.  `clientes.parquet`: Información sobre los clientes (contratos, datos demográficos).\n",
        "2.  `facturas.parquet`: Detalles de las facturas emitidas (consumo, fechas).\n",
        "3.  `precios_gas.parquet`: Precios del gas por m³ según estrato, año y mes.\n",
        "4.  `recaudo.parquet`: Información sobre los pagos realizados de las facturas.\n",
        "\n",
        "## Fase 1: Configuración del Entorno y Carga de Datos\n",
        "\n",
        "### 1.1 Importación de Librerías\n",
        "\n",
        "Primero, importaremos las librerías necesarias.\n",
        "* `pandas` para la manipulación y análisis de datos.\n",
        "* `matplotlib.pyplot` y `seaborn` para la visualización de datos.\n",
        "* `warnings` para gestionar las advertencias que puedan surgir."
      ],
      "metadata": {
        "id": "intro_markdown"
      },
      "id": "intro_markdown"
    },
    {
      "cell_type": "code",
      "execution_count": null,
      "metadata": {
        "id": "import_libs_code"
      },
      "outputs": [],
      "source": [
        "import pandas as pd\n",
        "import matplotlib.pyplot as plt\n",
        "import seaborn as sns\n",
        "import warnings\n",
        "\n",
        "warnings.filterwarnings('ignore')\n",
        "\n",
        "# Configuraciones para visualizaciones\n",
        "sns.set_style('whitegrid')\n",
        "plt.rcParams['figure.figsize'] = (10, 6)"
      ],
      "id": "import_libs_code"
    },
    {
      "cell_type": "markdown",
      "source": [
        "### 1.2 Descarga de los Archivos de Datos\n",
        "\n",
        "Descargaremos los archivos Parquet desde el repositorio de GitHub."
      ],
      "metadata": {
        "id": "download_data_markdown"
      },
      "id": "download_data_markdown"
    },
    {
      "cell_type": "code",
      "execution_count": null,
      "metadata": {
        "id": "download_data_code"
      },
      "outputs": [],
      "source": [
        "!wget -N https://github.com/srJboca/segmentacion/raw/refs/heads/main/archivos/clientes.parquet\n",
        "!wget -N https://github.com/srJboca/segmentacion/raw/refs/heads/main/archivos/facturas.parquet\n",
        "!wget -N https://github.com/srJboca/segmentacion/raw/refs/heads/main/archivos/precios_gas.parquet\n",
        "!wget -N https://github.com/srJboca/segmentacion/raw/refs/heads/main/archivos/recaudo.parquet"
      ],
      "id": "download_data_code"
    },
    {
      "cell_type": "markdown",
      "source": [
        "### 1.3 Carga de Datos en DataFrames de Pandas\n",
        "\n",
        "Ahora, cargaremos cada archivo Parquet en un DataFrame de Pandas."
      ],
      "metadata": {
        "id": "load_data_markdown"
      },
      "id": "load_data_markdown"
    },
    {
      "cell_type": "code",
      "execution_count": null,
      "metadata": {
        "id": "load_data_code"
      },
      "outputs": [],
      "source": [
        "df_clientes = pd.read_parquet('clientes.parquet')\n",
        "df_facturas = pd.read_parquet('facturas.parquet')\n",
        "df_recaudo = pd.read_parquet('recaudo.parquet')\n",
        "df_precios_gas = pd.read_parquet('precios_gas.parquet')"
      ],
      "id": "load_data_code"
    },
    {
      "cell_type": "markdown",
      "source": [
        "## Fase 2: Inspección Inicial de los Datos\n",
        "\n",
        "Realizaremos una inspección básica de cada DataFrame para entender su estructura, tipos de datos, y verificar la presencia de valores nulos o estadísticas descriptivas iniciales."
      ],
      "metadata": {
        "id": "initial_inspection_markdown"
      },
      "id": "initial_inspection_markdown"
    },
    {
      "cell_type": "markdown",
      "source": [
        "### 2.1 DataFrame de Clientes (`df_clientes`)"
      ],
      "metadata": {
        "id": "inspect_clientes_markdown"
      },
      "id": "inspect_clientes_markdown"
    },
    {
      "cell_type": "code",
      "execution_count": null,
      "metadata": {
        "id": "inspect_clientes_code"
      },
      "outputs": [],
      "source": [
        "print(\"--- Información de df_clientes ---\")\n",
        "df_clientes.info()\n",
        "print(\"\\n--- Primeras 5 filas de df_clientes ---\")\n",
        "print(df_clientes.head())\n",
        "print(\"\\n--- Valores nulos en df_clientes ---\")\n",
        "print(df_clientes.isnull().sum())\n",
        "print(\"\\n--- Estadísticas descriptivas de df_clientes ---\")\n",
        "print(df_clientes.describe(include='all'))\n",
        "print(\"\\n--- Conteo de valores únicos por columna en df_clientes ---\")\n",
        "for col in df_clientes.columns:\n",
        "    print(f\"Columna '{col}': {df_clientes[col].nunique()} valores únicos\")"
      ],
      "id": "inspect_clientes_code"
    },
    {
      "cell_type": "markdown",
      "source": [
        "**Observaciones sobre `df_clientes`:**\n",
        "* Contiene información personal y contractual de los clientes.\n",
        "* Columnas como `Ciudad` y `Estrato socioeconomico` son categóricas y podrían ser importantes para la segmentación.\n",
        "* Las fechas están como objetos, necesitaremos convertirlas a tipo `datetime`.\n",
        "* `Numero de contrato` parece ser el identificador único."
      ],
      "metadata": {
        "id": "obs_clientes_markdown"
      },
      "id": "obs_clientes_markdown"
    },
    {
      "cell_type": "markdown",
      "source": [
        "### 2.2 DataFrame de Facturas (`df_facturas`)"
      ],
      "metadata": {
        "id": "inspect_facturas_markdown"
      },
      "id": "inspect_facturas_markdown"
    },
    {
      "cell_type": "code",
      "execution_count": null,
      "metadata": {
        "id": "inspect_facturas_code"
      },
      "outputs": [],
      "source": [
        "print(\"--- Información de df_facturas ---\")\n",
        "df_facturas.info()\n",
        "print(\"\\n--- Primeras 5 filas de df_facturas ---\")\n",
        "print(df_facturas.head())\n",
        "print(\"\\n--- Valores nulos en df_facturas ---\")\n",
        "print(df_facturas.isnull().sum())\n",
        "print(\"\\n--- Estadísticas descriptivas de df_facturas ---\")\n",
        "print(df_facturas.describe(include='all'))\n",
        "print(\"\\n--- Conteo de valores únicos por columna en df_facturas ---\")\n",
        "for col in df_facturas.columns:\n",
        "    print(f\"Columna '{col}': {df_facturas[col].nunique()} valores únicos\")"
      ],
      "id": "inspect_facturas_code"
    },
    {
      "cell_type": "markdown",
      "source": [
        "**Observaciones sobre `df_facturas`:**\n",
        "* Contiene detalles de cada factura, incluyendo consumo y fechas relevantes.\n",
        "* `Numero de factura` es el identificador de la factura y `Numero de contrato` la vincula al cliente.\n",
        "* `Consumo (m3)` es una variable numérica clave.\n",
        "* Las fechas también están como objetos."
      ],
      "metadata": {
        "id": "obs_facturas_markdown"
      },
      "id": "obs_facturas_markdown"
    },
    {
      "cell_type": "markdown",
      "source": [
        "### 2.3 DataFrame de Recaudo (`df_recaudo`)"
      ],
      "metadata": {
        "id": "inspect_recaudo_markdown"
      },
      "id": "inspect_recaudo_markdown"
    },
    {
      "cell_type": "code",
      "execution_count": null,
      "metadata": {
        "id": "inspect_recaudo_code"
      },
      "outputs": [],
      "source": [
        "print(\"--- Información de df_recaudo ---\")\n",
        "df_recaudo.info()\n",
        "print(\"\\n--- Primeras 5 filas de df_recaudo ---\")\n",
        "print(df_recaudo.head())\n",
        "print(\"\\n--- Valores nulos en df_recaudo ---\")\n",
        "print(df_recaudo.isnull().sum())\n",
        "print(\"\\n--- Estadísticas descriptivas de df_recaudo ---\")\n",
        "print(df_recaudo.describe(include='all'))\n",
        "print(\"\\n--- Conteo de valores únicos por columna en df_recaudo ---\")\n",
        "for col in df_recaudo.columns:\n",
        "    print(f\"Columna '{col}': {df_recaudo[col].nunique()} valores únicos\")"
      ],
      "id": "inspect_recaudo_code"
    },
    {
      "cell_type": "markdown",
      "source": [
        "**Observaciones sobre `df_recaudo`:**\n",
        "* Registra la fecha en que se realizó el pago de una factura.\n",
        "* Se une a `df_facturas` mediante `Numero de factura`.\n",
        "* `Fecha de Pago Real` necesitará conversión a `datetime`."
      ],
      "metadata": {
        "id": "obs_recaudo_markdown"
      },
      "id": "obs_recaudo_markdown"
    },
    {
      "cell_type": "markdown",
      "source": [
        "### 2.4 DataFrame de Precios del Gas (`df_precios_gas`)"
      ],
      "metadata": {
        "id": "inspect_precios_markdown"
      },
      "id": "inspect_precios_markdown"
    },
    {
      "cell_type": "code",
      "execution_count": null,
      "metadata": {
        "id": "inspect_precios_code"
      },
      "outputs": [],
      "source": [
        "print(\"--- Información de df_precios_gas ---\")\n",
        "df_precios_gas.info()\n",
        "print(\"\\n--- Primeras 5 filas de df_precios_gas ---\")\n",
        "print(df_precios_gas.head())\n",
        "print(\"\\n--- Valores nulos en df_precios_gas ---\")\n",
        "print(df_precios_gas.isnull().sum())\n",
        "print(\"\\n--- Estadísticas descriptivas de df_precios_gas ---\")\n",
        "print(df_precios_gas.describe(include='all'))\n",
        "print(\"\\n--- Conteo de valores únicos por columna en df_precios_gas ---\")\n",
        "for col in df_precios_gas.columns:\n",
        "    print(f\"Columna '{col}': {df_precios_gas[col].nunique()} valores únicos\")"
      ],
      "id": "inspect_precios_code"
    },
    {
      "cell_type": "markdown",
      "source": [
        "**Observaciones sobre `df_precios_gas`:**\n",
        "* Define el precio del m³ de gas según `Año`, `Mes` y `Estrato`.\n",
        "* `Precio m3 (COP)` es el valor numérico del precio.\n",
        "* `Estrato` es categórico."
      ],
      "metadata": {
        "id": "obs_precios_markdown"
      },
      "id": "obs_precios_markdown"
    },
    {
      "cell_type": "markdown",
      "source": [
        "## Fase 3: Combinación (Merge) de los Datos\n",
        "\n",
        "Para tener una visión consolidada, combinaremos estos DataFrames."
      ],
      "metadata": {
        "id": "merge_intro_markdown"
      },
      "id": "merge_intro_markdown"
    },
    {
      "cell_type": "markdown",
      "source": [
        "### 3.1 Unir Facturas con Información de Clientes\n",
        "\n",
        "Unimos `df_facturas` con `df_clientes` usando `Numero de contrato` como clave."
      ],
      "metadata": {
        "id": "merge_factura_cliente_markdown"
      },
      "id": "merge_factura_cliente_markdown"
    },
    {
      "cell_type": "code",
      "execution_count": null,
      "metadata": {
        "id": "merge_factura_cliente_code"
      },
      "outputs": [],
      "source": [
        "df_factura_cliente = pd.merge(df_facturas, df_clientes, on='Numero de contrato', how='left')\n",
        "print(\"--- Información de df_factura_cliente (Facturas + Clientes) ---\")\n",
        "df_factura_cliente.info()\n",
        "print(\"\\n--- Primeras 5 filas de df_factura_cliente ---\")\n",
        "print(df_factura_cliente.head())\n",
        "print(f\"\\nShape de df_facturas: {df_facturas.shape}\")\n",
        "print(f\"Shape de df_factura_cliente: {df_factura_cliente.shape}\")"
      ],
      "id": "merge_factura_cliente_code"
    },
    {
      "cell_type": "markdown",
      "source": [
        "**Verificación:** El número de filas debería ser igual al de `df_facturas` si cada factura tiene un cliente correspondiente (usando `how='left'`). Si aumenta, podría indicar duplicados en `df_clientes` por `Numero de contrato`, lo cual no debería ser."
      ],
      "metadata": {
        "id": "verify_merge1_markdown"
      },
      "id": "verify_merge1_markdown"
    },
    {
      "cell_type": "markdown",
      "source": [
        "### 3.2 Añadir Precios a las Facturas\n",
        "\n",
        "Ahora unimos `df_factura_cliente` con `df_precios_gas`. La unión se hace usando `Año`, `Mes` y el estrato del cliente."
      ],
      "metadata": {
        "id": "merge_precios_markdown"
      },
      "id": "merge_precios_markdown"
    },
    {
      "cell_type": "code",
      "execution_count": null,
      "metadata": {
        "id": "merge_precios_code"
      },
      "outputs": [],
      "source": [
        "df_factura_cliente_precio = pd.merge(df_factura_cliente,\n",
        "                                     df_precios_gas,\n",
        "                                     left_on=['Año', 'Mes', 'Estrato socioeconomico'],\n",
        "                                     right_on=['Año', 'Mes', 'Estrato'],\n",
        "                                     how='left')\n",
        "\n",
        "print(\"--- Información de df_factura_cliente_precio (Facturas + Clientes + Precios) ---\")\n",
        "df_factura_cliente_precio.info()\n",
        "print(\"\\n--- Primeras 5 filas de df_factura_cliente_precio ---\")\n",
        "print(df_factura_cliente_precio.head())\n",
        "print(f\"\\nShape de df_factura_cliente: {df_factura_cliente.shape}\")\n",
        "print(f\"Shape de df_factura_cliente_precio: {df_factura_cliente_precio.shape}\")\n",
        "\n",
        "# Verificar si hay filas donde el precio no se pudo asignar (NaN en 'Precio m3 (COP)')\n",
        "print(\"\\n--- Filas sin precio asignado ---\")\n",
        "print(df_factura_cliente_precio[df_factura_cliente_precio['Precio m3 (COP)'].isnull()].head())"
      ],
      "id": "merge_precios_code"
    },
    {
      "cell_type": "markdown",
      "source": [
        "**Verificación y Posibles Problemas:**\n",
        "* Nuevamente, el número de filas debería ser consistente. Si aumenta drásticamente, podría indicar que las claves de unión `['Año', 'Mes', 'Estrato socioeconomico']` no son únicas en `df_precios_gas` para una combinación dada, o que hay múltiples facturas para el mismo cliente en el mismo mes con el mismo estrato que se están mapeando (lo cual es esperado).\n",
        "* La columna `Estrato` de `df_precios_gas` es redundante después del merge y puede ser eliminada.\n",
        "* Es crucial verificar si hay facturas a las que no se les pudo asignar un precio. Esto podría ocurrir si alguna combinación de `Año, Mes, Estrato socioeconomico` en las facturas no existe en la tabla de precios."
      ],
      "metadata": {
        "id": "verify_merge2_markdown"
      },
      "id": "verify_merge2_markdown"
    },
    {
      "cell_type": "markdown",
      "source": [
        "### 3.3 Incorporar Información de Pagos (Recaudo)\n",
        "\n",
        "Finalmente, unimos la información de pagos de `df_recaudo`."
      ],
      "metadata": {
        "id": "merge_recaudo_markdown"
      },
      "id": "merge_recaudo_markdown"
    },
    {
      "cell_type": "code",
      "execution_count": null,
      "metadata": {
        "id": "merge_recaudo_code"
      },
      "outputs": [],
      "source": [
        "df_completo = pd.merge(df_factura_cliente_precio,\n",
        "                       df_recaudo,\n",
        "                       on='Numero de factura',\n",
        "                       how='left') # Usamos left join para mantener todas las facturas, incluso si no tienen pago registrado\n",
        "\n",
        "print(\"--- Información de df_completo (Todos los datos unidos) ---\")\n",
        "df_completo.info()\n",
        "print(\"\\n--- Primeras 5 filas de df_completo ---\")\n",
        "print(df_completo.head())\n",
        "print(f\"\\nShape de df_factura_cliente_precio: {df_factura_cliente_precio.shape}\")\n",
        "print(f\"Shape de df_completo: {df_completo.shape}\")\n",
        "\n",
        "# Verificar facturas sin fecha de pago real\n",
        "print(\"\\n--- Facturas sin fecha de pago real (NaN en 'Fecha de Pago Real') ---\")\n",
        "print(df_completo[df_completo['Fecha de Pago Real'].isnull()][['Numero de factura', 'Fecha de Emision', 'Fecha de Pago Oportuno']].head())"
      ],
      "id": "merge_recaudo_code"
    },
    {
      "cell_type": "markdown",
      "source": [
        "**Verificación:**\n",
        "* El número de filas debería mantenerse o aumentar si una factura tiene múltiples registros de pago (poco común, a menos que sean pagos parciales no consolidados). Un `left join` asegura que todas las facturas se mantengan.\n",
        "* Las facturas sin un `Fecha de Pago Real` correspondiente tendrán `NaN` en esa columna. Esto es esperado para facturas no pagadas o cuyo pago aún no se ha registrado."
      ],
      "metadata": {
        "id": "verify_merge3_markdown"
      },
      "id": "verify_merge3_markdown"
    },
    {
      "cell_type": "markdown",
      "source": [
        "### 3.4 Selección de Columnas y Manejo de Duplicados\n",
        "\n",
        "El DataFrame original `df_analisis` seleccionaba un subconjunto de columnas. Vamos a replicar esto y luego manejar posibles duplicados que se hayan generado en los merges, especialmente si las claves no eran perfectamente únicas o si la misma información se unió múltiples veces."
      ],
      "metadata": {
        "id": "select_cols_dups_markdown"
      },
      "id": "select_cols_dups_markdown"
    },
    {
      "cell_type": "code",
      "execution_count": null,
      "metadata": {
        "id": "select_cols_dups_code"
      },
      "outputs": [],
      "source": [
        "columnas_seleccionadas = [\n",
        "    'Numero de factura', 'Numero de contrato', 'Fecha de Emision', 'Consumo (m3)',\n",
        "    'Fecha de Pago Oportuno', 'Fecha de Lectura', 'Fecha de Suspension Estimada',\n",
        "    'Ciudad', 'Estrato socioeconomico',\n",
        "    'Precio m3 (COP)', 'Fecha de Pago Real'\n",
        "]\n",
        "\n",
        "if 'Estrato' in df_completo.columns and 'Estrato socioeconomico' in df_completo.columns:\n",
        "    df_completo = df_completo.drop(columns=['Estrato'])\n",
        "\n",
        "df_analisis = df_completo[columnas_seleccionadas].copy()\n",
        "\n",
        "print(\"--- Primeras filas de df_analisis (antes de tratar duplicados) ---\")\n",
        "print(df_analisis.head())\n",
        "print(f\"\\nShape de df_analisis antes de drop_duplicates: {df_analisis.shape}\")\n",
        "\n",
        "num_duplicados_antes = df_analisis.duplicated().sum()\n",
        "print(f\"Número de filas duplicadas exactas antes: {num_duplicados_antes}\")\n",
        "\n",
        "df_analisis = df_analisis.drop_duplicates()\n",
        "print(f\"\\nShape de df_analisis después de drop_duplicates: {df_analisis.shape}\")\n",
        "num_duplicados_despues = df_analisis.duplicated().sum()\n",
        "print(f\"Número de filas duplicadas exactas después: {num_duplicados_despues}\")\n",
        "\n",
        "print(\"\\n--- Primeras filas de df_analisis (después de tratar duplicados) ---\")\n",
        "print(df_analisis.head())\n",
        "df_analisis.info()"
      ],
      "id": "select_cols_dups_code"
    },
    {
      "cell_type": "markdown",
      "source": [
        "**Nota sobre Duplicados:**\n",
        "El notebook original mostraba filas duplicadas después de los merges. El paso `drop_duplicates()` es crucial para asegurar la integridad del análisis. Es importante investigar *por qué* se generaron duplicados (e.g., ¿claves de merge no únicas? ¿datos fuente con duplicados?). Por ahora, los hemos eliminado."
      ],
      "metadata": {
        "id": "note_duplicates_markdown"
      },
      "id": "note_duplicates_markdown"
    },
    {
      "cell_type": "markdown",
      "source": [
        "## Fase 4: Ingeniería de Características (Feature Engineering)\n",
        "\n",
        "Crearemos nuevas columnas a partir de las existentes para enriquecer nuestro análisis."
      ],
      "metadata": {
        "id": "feature_eng_intro_markdown"
      },
      "id": "feature_eng_intro_markdown"
    },
    {
      "cell_type": "markdown",
      "source": [
        "### 4.1 Conversión de Fechas\n",
        "\n",
        "Convertimos las columnas de fecha a formato `datetime`."
      ],
      "metadata": {
        "id": "convert_dates_markdown"
      },
      "id": "convert_dates_markdown"
    },
    {
      "cell_type": "code",
      "execution_count": null,
      "metadata": {
        "id": "convert_dates_code"
      },
      "outputs": [],
      "source": [
        "date_cols = ['Fecha de Emision', 'Fecha de Pago Oportuno', 'Fecha de Lectura', 'Fecha de Pago Real', 'Fecha de Suspension Estimada']\n",
        "for col in date_cols:\n",
        "    df_analisis[col] = pd.to_datetime(df_analisis[col], errors='coerce')\n",
        "\n",
        "print(\"--- Tipos de datos después de convertir fechas ---\")\n",
        "df_analisis.info()"
      ],
      "id": "convert_dates_code"
    },
    {
      "cell_type": "markdown",
      "source": [
        "### 4.2 Cálculo del Monto de la Factura (Precio por Consumo)"
      ],
      "metadata": {
        "id": "calc_precio_consumo_markdown"
      },
      "id": "calc_precio_consumo_markdown"
    },
    {
      "cell_type": "code",
      "execution_count": null,
      "metadata": {
        "id": "calc_precio_consumo_code"
      },
      "outputs": [],
      "source": [
        "df_analisis['Precio por Consumo'] = df_analisis['Precio m3 (COP)'] * df_analisis['Consumo (m3)']\n",
        "print(\"\\n--- df_analisis con 'Precio por Consumo' ---\")\n",
        "print(df_analisis[['Consumo (m3)', 'Precio m3 (COP)', 'Precio por Consumo']].head())"
      ],
      "id": "calc_precio_consumo_code"
    },
    {
      "cell_type": "markdown",
      "source": [
        "### 4.3 Cálculo de Diferencias Temporales\n",
        "\n",
        "Calcularemos los días entre diferentes eventos clave."
      ],
      "metadata": {
        "id": "calc_dias_markdown"
      },
      "id": "calc_dias_markdown"
    },
    {
      "cell_type": "code",
      "execution_count": null,
      "metadata": {
        "id": "calc_dias_code"
      },
      "outputs": [],
      "source": [
        "df_analisis['Dias_Emision_PagoOportuno'] = (df_analisis['Fecha de Pago Oportuno'] - df_analisis['Fecha de Emision']).dt.days\n",
        "df_analisis['Dias_Lectura_Emision'] = (df_analisis['Fecha de Emision'] - df_analisis['Fecha de Lectura']).dt.days\n",
        "df_analisis['Dias_PagoOportuno_PagoReal'] = (df_analisis['Fecha de Pago Real'] - df_analisis['Fecha de Pago Oportuno']).dt.days\n",
        "\n",
        "print(\"\\n--- df_analisis con nuevas características de días ---\")\n",
        "print(df_analisis[['Fecha de Emision', 'Fecha de Pago Oportuno', 'Fecha de Lectura', 'Fecha de Pago Real',\n",
        "                   'Dias_Emision_PagoOportuno', 'Dias_Lectura_Emision', 'Dias_PagoOportuno_PagoReal']].head())"
      ],
      "id": "calc_dias_code"
    },
    {
      "cell_type": "markdown",
      "source": [
        "### 4.4 Identificación de Mora en Pagos\n",
        "\n",
        "Creamos una columna binaria `Mora`: 1 si el pago se realizó después de la fecha de pago oportuno, 0 si se pagó a tiempo o antes. Se considera 0 si no hay fecha de pago real (NaT)."
      ],
      "metadata": {
        "id": "calc_mora_markdown"
      },
      "id": "calc_mora_markdown"
    },
    {
      "cell_type": "code",
      "execution_count": null,
      "metadata": {
        "id": "calc_mora_code"
      },
      "outputs": [],
      "source": [
        "df_analisis['Mora'] = 0\n",
        "df_analisis.loc[df_analisis['Dias_PagoOportuno_PagoReal'] > 0, 'Mora'] = 1\n",
        "df_analisis.loc[df_analisis['Dias_PagoOportuno_PagoReal'].isnull(), 'Mora'] = 0\n",
        "\n",
        "print(\"\\n--- df_analisis con la columna 'Mora' ---\")\n",
        "print(df_analisis[['Fecha de Pago Oportuno', 'Fecha de Pago Real', 'Dias_PagoOportuno_PagoReal', 'Mora']].head(10))\n",
        "print(\"\\nConteo de valores en 'Mora':\")\n",
        "print(df_analisis['Mora'].value_counts(dropna=False))"
      ],
      "id": "calc_mora_code"
    },
    {
      "cell_type": "markdown",
      "source": [
        "## Fase 5: Exploración Detallada del DataFrame Consolidado (`df_analisis`)\n",
        "\n",
        "Ahora que tenemos un DataFrame limpio y enriquecido, podemos explorarlo más a fondo."
      ],
      "metadata": {
        "id": "eda_intro_markdown"
      },
      "id": "eda_intro_markdown"
    },
    {
      "cell_type": "markdown",
      "source": [
        "### 5.1 Resumen General y Valores Nulos"
      ],
      "metadata": {
        "id": "eda_summary_nulls_markdown"
      },
      "id": "eda_summary_nulls_markdown"
    },
    {
      "cell_type": "code",
      "execution_count": null,
      "metadata": {
        "id": "eda_summary_nulls_code"
      },
      "outputs": [],
      "source": [
        "print(\"--- Información general de df_analisis ---\")\n",
        "df_analisis.info()\n",
        "\n",
        "print(\"\\n--- Valores nulos en df_analisis ---\")\n",
        "print(df_analisis.isnull().sum())\n",
        "\n",
        "print(\"\\n--- Estadísticas descriptivas de df_analisis ---\")\n",
        "print(df_analisis.describe(include='all'))"
      ],
      "id": "eda_summary_nulls_code"
    },
    {
      "cell_type": "markdown",
      "source": [
        "**Observaciones sobre valores nulos:**\n",
        "* `Fecha de Suspension Estimada`: Puede tener nulos si no todas las facturas tienen esta fecha.\n",
        "* `Precio m3 (COP)` y `Precio por Consumo`: Nulos aquí indicarían problemas en el merge con `df_precios_gas` o datos faltantes en la tabla de precios.\n",
        "* `Fecha de Pago Real` y `Dias_PagoOportuno_PagoReal`: Nulos son esperados para facturas no pagadas.\n",
        "\n",
        "Es importante decidir cómo tratar estos nulos. Para algunas variables, podrían imputarse, para otras (como `Fecha de Pago Real`), su ausencia es informativa."
      ],
      "metadata": {
        "id": "obs_nulls_markdown"
      },
      "id": "obs_nulls_markdown"
    },
    {
      "cell_type": "markdown",
      "source": [
        "### 5.2 Distribución de Variables Numéricas Clave"
      ],
      "metadata": {
        "id": "dist_numeric_markdown"
      },
      "id": "dist_numeric_markdown"
    },
    {
      "cell_type": "code",
      "execution_count": null,
      "metadata": {
        "id": "dist_numeric_code"
      },
      "outputs": [],
      "source": [
        "numerical_cols_to_plot = ['Consumo (m3)', 'Precio m3 (COP)', 'Precio por Consumo',\n",
        "                           'Dias_Emision_PagoOportuno', 'Dias_Lectura_Emision', 'Dias_PagoOportuno_PagoReal']\n",
        "\n",
        "for col in numerical_cols_to_plot:\n",
        "    plt.figure(figsize=(12, 5))\n",
        "\n",
        "    plt.subplot(1, 2, 1)\n",
        "    sns.histplot(df_analisis[col].dropna(), kde=True, bins=30) # dropna() para evitar errores con NaT/NaN en histplot\n",
        "    plt.title(f'Distribución de {col}')\n",
        "\n",
        "    plt.subplot(1, 2, 2)\n",
        "    sns.boxplot(y=df_analisis[col].dropna())\n",
        "    plt.title(f'Boxplot de {col}')\n",
        "\n",
        "    plt.tight_layout()\n",
        "    plt.show()\n",
        "    print(f\"Estadísticas para {col}:\\n{df_analisis[col].describe()}\\n\")"
      ],
      "id": "dist_numeric_code"
    },
    {
      "cell_type": "markdown",
      "source": [
        "**Interpretación de distribuciones:**\n",
        "* **Consumo (m3):** Observar la forma de la distribución. ¿Es simétrica, sesgada? ¿Hay outliers (consumos muy altos o bajos)?\n",
        "* **Precio m3 (COP):** ¿Varía mucho? Esto dependerá de los estratos y la evolución temporal.\n",
        "* **Precio por Consumo:** Similar al consumo, pero escalado por el precio.\n",
        "* **Variables de Días:**\n",
        "    * `Dias_Emision_PagoOportuno`: Plazo para pagar. ¿Es constante?\n",
        "    * `Dias_Lectura_Emision`: Tiempo entre lectura y emisión. ¿Es consistente?\n",
        "    * `Dias_PagoOportuno_PagoReal`: Valores positivos indican mora. Negativos, pago adelantado. Cero, pago el día oportuno. La alta concentración en valores negativos o cero en el head del notebook original sugiere pagos puntuales o adelantados para esos casos. El boxplot puede mostrar la magnitud de la mora o adelanto."
      ],
      "metadata": {
        "id": "interpret_dist_numeric_markdown"
      },
      "id": "interpret_dist_numeric_markdown"
    },
    {
      "cell_type": "markdown",
      "source": [
        "### 5.3 Distribución de Variables Categóricas Clave"
      ],
      "metadata": {
        "id": "dist_categorical_markdown"
      },
      "id": "dist_categorical_markdown"
    },
    {
      "cell_type": "code",
      "execution_count": null,
      "metadata": {
        "id": "dist_categorical_code"
      },
      "outputs": [],
      "source": [
        "categorical_cols_to_plot = ['Ciudad', 'Estrato socioeconomico', 'Mora']\n",
        "\n",
        "for col in categorical_cols_to_plot:\n",
        "    plt.figure(figsize=(8, 5))\n",
        "    sns.countplot(data=df_analisis, x=col, order=df_analisis[col].value_counts(dropna=False).index)\n",
        "    plt.title(f'Distribución de {col}')\n",
        "    plt.xticks(rotation=45)\n",
        "    plt.show()\n",
        "    print(f\"Conteo para {col}:\\n{df_analisis[col].value_counts(dropna=False)}\\n\")"
      ],
      "id": "dist_categorical_code"
    },
    {
      "cell_type": "markdown",
      "source": [
        "**Interpretación de distribuciones categóricas:**\n",
        "* **Ciudad:** ¿Cómo se distribuyen las facturas/clientes por ciudad?\n",
        "* **Estrato socioeconomico:** ¿Qué estratos son los más comunes?\n",
        "* **Mora:** ¿Qué proporción de facturas se pagan con mora?"
      ],
      "metadata": {
        "id": "interpret_dist_categorical_markdown"
      },
      "id": "interpret_dist_categorical_markdown"
    },
    {
      "cell_type": "markdown",
      "source": [
        "### 5.4 Análisis de Correlación (Variables Numéricas)"
      ],
      "metadata": {
        "id": "correlation_markdown"
      },
      "id": "correlation_markdown"
    },
    {
      "cell_type": "code",
      "execution_count": null,
      "metadata": {
        "id": "correlation_code"
      },
      "outputs": [],
      "source": [
        "numerical_df = df_analisis.select_dtypes(include=['number'])\n",
        "\n",
        "plt.figure(figsize=(12, 8))\n",
        "correlation_matrix = numerical_df.corr()\n",
        "sns.heatmap(correlation_matrix, annot=True, cmap='coolwarm', fmt=\".2f\", linewidths=.5)\n",
        "plt.title('Matriz de Correlación de Variables Numéricas')\n",
        "plt.show()\n",
        "\n",
        "print(\"\\n--- Pares con mayor correlación (absoluta) ---\")\n",
        "corr_pairs = correlation_matrix.unstack()\n",
        "sorted_pairs = corr_pairs.sort_values(kind=\"quicksort\", ascending=False)\n",
        "unique_corr_pairs = sorted_pairs[(abs(sorted_pairs) < 1) & (abs(sorted_pairs) > 0.5)].drop_duplicates() # Filtrar > 0.5 para relevancia\n",
        "print(unique_corr_pairs.head(10))"
      ],
      "id": "correlation_code"
    },
    {
      "cell_type": "markdown",
      "source": [
        "**Interpretación de la Matriz de Correlación:**\n",
        "* Busca coeficientes de correlación cercanos a 1 (correlación positiva fuerte) o -1 (correlación negativa fuerte).\n",
        "* Por ejemplo, es esperable una alta correlación entre `Consumo (m3)` y `Precio por Consumo`.\n",
        "* Correlaciones inesperadas pueden revelar insights interesantes."
      ],
      "metadata": {
        "id": "interpret_correlation_markdown"
      },
      "id": "interpret_correlation_markdown"
    },
    {
      "cell_type": "markdown",
      "source": [
        "### 5.5 Relaciones entre Variables\n",
        "\n",
        "Exploremos algunas relaciones específicas."
      ],
      "metadata": {
        "id": "relationships_intro_markdown"
      },
      "id": "relationships_intro_markdown"
    },
    {
      "cell_type": "markdown",
      "source": [
        "#### 5.5.1 Consumo promedio por Estrato y Ciudad"
      ],
      "metadata": {
        "id": "consumo_estrato_ciudad_markdown"
      },
      "id": "consumo_estrato_ciudad_markdown"
    },
    {
      "cell_type": "code",
      "execution_count": null,
      "metadata": {
        "id": "consumo_estrato_ciudad_code"
      },
      "outputs": [],
      "source": [
        "plt.figure(figsize=(12, 6))\n",
        "sns.barplot(data=df_analisis, x='Estrato socioeconomico', y='Consumo (m3)', hue='Ciudad', estimator=pd.Series.mean, errorbar=None, order=sorted(df_analisis['Estrato socioeconomico'].dropna().unique()))\n",
        "plt.title('Consumo Promedio (m3) por Estrato Socioeconómico y Ciudad')\n",
        "plt.ylabel('Consumo Promedio (m3)')\n",
        "plt.xlabel('Estrato Socioeconómico')\n",
        "plt.xticks(rotation=45)\n",
        "plt.legend(title='Ciudad')\n",
        "plt.show()\n",
        "\n",
        "plt.figure(figsize=(14, 7))\n",
        "sns.boxplot(data=df_analisis, x='Estrato socioeconomico', y='Consumo (m3)', hue='Ciudad', order=sorted(df_analisis['Estrato socioeconomico'].dropna().unique()))\n",
        "plt.title('Distribución del Consumo (m3) por Estrato Socioeconómico y Ciudad')\n",
        "plt.ylabel('Consumo (m3)')\n",
        "plt.xlabel('Estrato Socioeconómico')\n",
        "plt.xticks(rotation=45)\n",
        "plt.legend(title='Ciudad')\n",
        "plt.show()"
      ],
      "id": "consumo_estrato_ciudad_code"
    },
    {
      "cell_type": "markdown",
      "source": [
        "#### 5.5.2 Tasa de Mora por Estrato y Ciudad"
      ],
      "metadata": {
        "id": "mora_estrato_ciudad_markdown"
      },
      "id": "mora_estrato_ciudad_markdown"
    },
    {
      "cell_type": "code",
      "execution_count": null,
      "metadata": {
        "id": "mora_estrato_ciudad_code"
      },
      "outputs": [],
      "source": [
        "mora_por_estrato_ciudad = df_analisis.groupby(['Estrato socioeconomico', 'Ciudad'])['Mora'].mean().reset_index()\n",
        "mora_por_estrato_ciudad = mora_por_estrato_ciudad.rename(columns={'Mora': 'Tasa de Mora'})\n",
        "\n",
        "plt.figure(figsize=(12, 6))\n",
        "sns.barplot(data=mora_por_estrato_ciudad, x='Estrato socioeconomico', y='Tasa de Mora', hue='Ciudad', order=sorted(mora_por_estrato_ciudad['Estrato socioeconomico'].dropna().unique()))\n",
        "plt.title('Tasa de Mora por Estrato Socioeconómico y Ciudad')\n",
        "plt.ylabel('Tasa de Mora (Proporción)')\n",
        "plt.xlabel('Estrato Socioeconómico')\n",
        "plt.xticks(rotation=45)\n",
        "plt.legend(title='Ciudad')\n",
        "plt.show()"
      ],
      "id": "mora_estrato_ciudad_code"
    },
    {
      "cell_type": "markdown",
      "source": [
        "### 5.6 Análisis Temporal (Ejemplo: Consumo a lo largo del tiempo)"
      ],
      "metadata": {
        "id": "temporal_analysis_markdown"
      },
      "id": "temporal_analysis_markdown"
    },
    {
      "cell_type": "code",
      "execution_count": null,
      "metadata": {
        "id": "temporal_analysis_code"
      },
      "outputs": [],
      "source": [
        "df_temporal = df_analisis.set_index('Fecha de Emision').sort_index()\n",
        "\n",
        "consumo_mensual = df_temporal['Consumo (m3)'].resample('ME').mean()\n",
        "\n",
        "plt.figure(figsize=(14, 7))\n",
        "consumo_mensual.plot(marker='o', linestyle='-')\n",
        "plt.title('Consumo Promedio Mensual de Gas (m3) a lo largo del Tiempo')\n",
        "plt.xlabel('Fecha de Emisión (Mes)')\n",
        "plt.ylabel('Consumo Promedio (m3)')\n",
        "plt.grid(True)\n",
        "plt.show()\n",
        "\n",
        "facturas_mensuales = df_temporal.resample('ME').size()\n",
        "plt.figure(figsize=(14, 7))\n",
        "facturas_mensuales.plot(kind='bar')\n",
        "plt.title('Número de Facturas Emitidas por Mes')\n",
        "plt.xlabel('Fecha de Emisión (Mes)')\n",
        "plt.ylabel('Número de Facturas')\n",
        "plt.xticks(rotation=45)\n",
        "plt.grid(axis='y')\n",
        "plt.show()"
      ],
      "id": "temporal_analysis_code"
    },
    {
      "cell_type": "markdown",
      "source": [
        "**Interpretación del Análisis Temporal:**\n",
        "* ¿Hay tendencias en el consumo (aumento, disminución)?\n",
        "* ¿Se observa estacionalidad (picos en ciertos meses)?\n",
        "* La cantidad de facturas puede indicar crecimiento de la base de clientes o fluctuaciones en la facturación."
      ],
      "metadata": {
        "id": "interpret_temporal_markdown"
      },
      "id": "interpret_temporal_markdown"
    },
    {
      "cell_type": "markdown",
      "source": [
        "## Fase 6: Conclusiones de la Exploración y Próximos Pasos\n",
        "\n",
        "En esta fase exploratoria, hemos:\n",
        "1.  Cargado y realizado una inspección inicial de cuatro fuentes de datos.\n",
        "2.  Combinado los datos en un DataFrame unificado (`df_analisis`).\n",
        "3.  Identificado y manejado filas duplicadas que surgieron durante los merges.\n",
        "4.  Realizado ingeniería de características, creando nuevas variables como `Precio por Consumo`, diferencias temporales y un indicador de `Mora`.\n",
        "5.  Explorado las distribuciones de variables numéricas y categóricas clave.\n",
        "6.  Analizado correlaciones y relaciones entre variables (e.g., consumo por estrato, mora por estrato).\n",
        "7.  Realizado un breve análisis temporal del consumo."
      ],
      "metadata": {
        "id": "conclusions_markdown"
      },
      "id": "conclusions_markdown"
    }
  ]
}