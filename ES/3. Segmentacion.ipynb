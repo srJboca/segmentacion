{
  "nbformat": 4,
  "nbformat_minor": 5,
  "metadata": {
    "colab": {
      "provenance": [],
      "include_colab_link": true
    },
    "kernelspec": {
      "name": "python3",
      "display_name": "Python 3"
    },
    "language_info": {
      "name": "python"
    }
  },
  "cells": [
    {
      "cell_type": "markdown",
      "metadata": {
        "id": "view-in-github",
        "colab_type": "text"
      },
      "source": [
        "<a href=\"https://colab.research.google.com/github/srJboca/segmentacion/blob/main/ES/3.%20Segmentacion.ipynb\" target=\"_parent\"><img src=\"https://colab.research.google.com/assets/colab-badge.svg\" alt=\"Open In Colab\"/></a>"
      ]
    },
    {
      "cell_type": "markdown",
      "source": [
        "# Tutorial: Segmentación de Clientes de Gas\n",
        "\n",
        "## Introducción\n",
        "\n",
        "Este notebook se enfoca en la segmentación de clientes utilizando el DataFrame `df_analisis.parquet`, que fue preparado en el notebook de exploración de datos. La segmentación de clientes nos permite agrupar clientes con características similares, lo cual es útil para estrategias de marketing personalizadas, gestión de servicios y optimización de operaciones.\n",
        "\n",
        "**Objetivo:** Identificar distintos segmentos de clientes basados en su comportamiento de consumo y pago.\n",
        "\n",
        "**Técnicas Utilizadas:**\n",
        "1.  **Agregación de Datos:** Transformar datos a nivel de factura en características a nivel de cliente.\n",
        "2.  **Análisis de Componentes Principales (PCA):** Reducir la dimensionalidad de los datos para facilitar la visualización y el clustering.\n",
        "3.  **K-Means Clustering:** Agrupar los clientes en K segmentos distintos.\n",
        "4.  **Perfilado de Segmentos:** Analizar las características de cada segmento.\n",
        "\n",
        "## 1. Configuración del Entorno y Carga de Datos"
      ],
      "metadata": {
        "id": "intro_segmentation_markdown"
      },
      "id": "intro_segmentation_markdown"
    },
    {
      "cell_type": "markdown",
      "source": [
        "### 1.1 Importación de Librerías"
      ],
      "metadata": {
        "id": "import_libs_seg_markdown"
      },
      "id": "import_libs_seg_markdown"
    },
    {
      "cell_type": "code",
      "execution_count": null,
      "metadata": {
        "id": "import_libs_seg_code"
      },
      "outputs": [],
      "source": [
        "import pandas as pd\n",
        "import numpy as np\n",
        "import matplotlib.pyplot as plt\n",
        "import seaborn as sns\n",
        "import warnings\n",
        "\n",
        "from sklearn.preprocessing import StandardScaler\n",
        "from sklearn.decomposition import PCA\n",
        "from sklearn.cluster import KMeans\n",
        "\n",
        "warnings.filterwarnings('ignore')\n",
        "sns.set_style('whitegrid')\n",
        "plt.rcParams['figure.figsize'] = (10, 6)"
      ],
      "id": "import_libs_seg_code"
    },
    {
      "cell_type": "markdown",
      "source": [
        "### 1.2 Descarga y Carga del DataFrame Preprocesado\n",
        "\n",
        "Utilizaremos el archivo `df_analisis.parquet`."
      ],
      "metadata": {
        "id": "load_preprocessed_data_seg_markdown"
      },
      "id": "load_preprocessed_data_seg_markdown"
    },
    {
      "cell_type": "code",
      "execution_count": null,
      "metadata": {
        "id": "load_preprocessed_data_seg_code"
      },
      "outputs": [],
      "source": [
        "!wget -N https://github.com/srJboca/segmentacion/raw/refs/heads/main/archivos/df_analisis.parquet\n",
        "df_analisis = pd.read_parquet('df_analisis.parquet')"
      ],
      "id": "load_preprocessed_data_seg_code"
    },
    {
      "cell_type": "markdown",
      "source": [
        "## 2. Revisión Rápida de Datos\n",
        "Recordemos la estructura del DataFrame `df_analisis`."
      ],
      "metadata": {
        "id": "data_review_seg_markdown"
      },
      "id": "data_review_seg_markdown"
    },
    {
      "cell_type": "code",
      "execution_count": null,
      "metadata": {
        "id": "data_review_seg_code"
      },
      "outputs": [],
      "source": [
        "print(\"--- Primeras 5 filas de df_analisis ---\")\n",
        "print(df_analisis.head())\n",
        "print(\"\\n--- Información de df_analisis ---\")\n",
        "df_analisis.info()"
      ],
      "id": "data_review_seg_code"
    },
    {
      "cell_type": "markdown",
      "source": [
        "## 3. Agregación de Características a Nivel de Cliente\n",
        "\n",
        "Para segmentar clientes, necesitamos características que describan el comportamiento de cada cliente a lo largo del tiempo. Agruparemos los datos por `Numero de contrato` y calcularemos métricas agregadas (promedios) de su consumo, costos y comportamiento de pago.\n",
        "\n",
        "El DataFrame `df_analisis` original (celda 4 del notebook proporcionado) contiene datos a nivel de factura. El notebook original también crea un `df_prediccion` (celda 6) que selecciona ciertas columnas, pero la agregación (celda 8) se realiza directamente sobre `df_analisis`. Seguiremos esta última lógica."
      ],
      "metadata": {
        "id": "feature_aggregation_markdown"
      },
      "id": "feature_aggregation_markdown"
    },
    {
      "cell_type": "code",
      "execution_count": null,
      "metadata": {
        "id": "feature_aggregation_code"
      },
      "outputs": [],
      "source": [
        "df_grouped = df_analisis.groupby('Numero de contrato').agg(\n",
        "    Consumo_Promedio=('Consumo (m3)', 'mean'),\n",
        "    Precio_Consumo_Promedio=('Precio por Consumo', 'mean'),\n",
        "    Dias_Emision_PagoOportuno_Promedio=('Dias_Emision_PagoOportuno', 'mean'),\n",
        "    Dias_Lectura_Emision_Promedio=('Dias_Lectura_Emision', 'mean'),\n",
        "    Dias_PagoOportuno_PagoReal_Promedio=('Dias_PagoOportuno_PagoReal', 'mean'),\n",
        "    Mora_Promedio=('Mora', 'mean') # Tasa de mora\n",
        ").reset_index()\n",
        "\n",
        "print(\"--- df_grouped (datos agregados por cliente) ---\")\n",
        "print(df_grouped.head())"
      ],
      "id": "feature_aggregation_code"
    },
    {
      "cell_type": "markdown",
      "source": [
        "### 3.1 Incorporar 'Estrato Socioeconómico'\n",
        "\n",
        "El 'Estrato socioeconomico' es una característica importante del cliente. Lo uniremos al DataFrame agrupado. Necesitamos obtener el estrato de `df_analisis` (o podríamos haberlo obtenido de `df_clientes` en la fase de exploración). Como `df_analisis` ya tiene 'Estrato', lo usaremos, asegurándonos de tomar un único valor por cliente."
      ],
      "metadata": {
        "id": "merge_estrato_markdown"
      },
      "id": "merge_estrato_markdown"
    },
    {
      "cell_type": "code",
      "execution_count": null,
      "metadata": {
        "id": "merge_estrato_code"
      },
      "outputs": [],
      "source": [
        "# Obtener el estrato para cada contrato (tomando el primero, asumiendo que no cambia)\n",
        "df_estratos = df_analisis.drop_duplicates(subset=['Numero de contrato'])[['Numero de contrato', 'Estrato']].copy()\n",
        "# Renombrar 'Estrato' a 'Estrato socioeconomico' para claridad si es necesario\n",
        "df_estratos.rename(columns={'Estrato': 'Estrato socioeconomico'}, inplace=True)\n",
        "\n",
        "df_segmentacion = pd.merge(df_grouped, df_estratos, on='Numero de contrato', how='left')\n",
        "\n",
        "print(\"--- df_segmentacion con Estrato ---\")\n",
        "print(df_segmentacion.head())\n",
        "print(\"\\n--- Información de df_segmentacion ---\")\n",
        "df_segmentacion.info()"
      ],
      "id": "merge_estrato_code"
    },
    {
      "cell_type": "markdown",
      "source": [
        "## 4. Preprocesamiento para PCA y Clustering"
      ],
      "metadata": {
        "id": "pca_preprocessing_markdown"
      },
      "id": "pca_preprocessing_markdown"
    },
    {
      "cell_type": "markdown",
      "source": [
        "### 4.1 Selección de Características Numéricas y Manejo de NaNs\n",
        "Seleccionaremos las características numéricas para PCA y clustering. La columna 'Estrato socioeconomico' es categórica y la trataremos después o la usaremos para perfilar los segmentos. Por ahora, la convertiremos a numérica si es ordinal.\n",
        "También eliminaremos filas con valores NaN en las características seleccionadas."
      ],
      "metadata": {
        "id": "select_numeric_nan_markdown"
      },
      "id": "select_numeric_nan_markdown"
    },
    {
      "cell_type": "code",
      "execution_count": null,
      "metadata": {
        "id": "select_numeric_nan_code"
      },
      "outputs": [],
      "source": [
        "# Convertir 'Estrato socioeconomico' a numérico (ordinal)\n",
        "if df_segmentacion['Estrato socioeconomico'].dtype == 'object' or isinstance(df_segmentacion['Estrato socioeconomico'].dtype, pd.CategoricalDtype):\n",
        "    df_segmentacion['Estrato_Num'] = df_segmentacion['Estrato socioeconomico'].str.replace('Estrato ', '', regex=False).astype(int)\n",
        "else:\n",
        "    df_segmentacion['Estrato_Num'] = df_segmentacion['Estrato socioeconomico'].astype(int)\n",
        "\n",
        "features_for_pca = [\n",
        "    'Consumo_Promedio',\n",
        "    'Precio_Consumo_Promedio',\n",
        "    'Dias_Emision_PagoOportuno_Promedio',\n",
        "    'Dias_Lectura_Emision_Promedio',\n",
        "    'Dias_PagoOportuno_PagoReal_Promedio',\n",
        "    'Mora_Promedio',\n",
        "    'Estrato_Num' # Incluimos el estrato numérico\n",
        "]\n",
        "X = df_segmentacion[features_for_pca].copy()\n",
        "\n",
        "print(f\"Shape antes de dropna: {X.shape}\")\n",
        "X.dropna(inplace=True) # Eliminar filas con NaNs en estas características\n",
        "print(f\"Shape después de dropna: {X.shape}\")\n",
        "\n",
        "print(\"\\nValores faltantes después de dropna:\")\n",
        "print(X.isnull().sum())"
      ],
      "id": "select_numeric_nan_code"
    },
    {
      "cell_type": "markdown",
      "source": [
        "### 4.2 Escalado de Características\n",
        "PCA es sensible a la escala de las características. Por lo tanto, estandarizaremos los datos."
      ],
      "metadata": {
        "id": "scaling_markdown"
      },
      "id": "scaling_markdown"
    },
    {
      "cell_type": "code",
      "execution_count": null,
      "metadata": {
        "id": "scaling_code"
      },
      "outputs": [],
      "source": [
        "scaler = StandardScaler()\n",
        "X_scaled = scaler.fit_transform(X)\n",
        "\n",
        "print(\"--- Datos escalados (primeras 5 filas) ---\")\n",
        "print(pd.DataFrame(X_scaled, columns=X.columns).head())"
      ],
      "id": "scaling_code"
    },
    {
      "cell_type": "markdown",
      "source": [
        "## 5. Análisis de Componentes Principales (PCA)\n",
        "\n",
        "Reduciremos la dimensionalidad a 2 componentes principales para visualización."
      ],
      "metadata": {
        "id": "pca_markdown"
      },
      "id": "pca_markdown"
    },
    {
      "cell_type": "code",
      "execution_count": null,
      "metadata": {
        "id": "pca_code"
      },
      "outputs": [],
      "source": [
        "pca = PCA(n_components=2) # Reducir a 2 componentes\n",
        "X_pca = pca.fit_transform(X_scaled)\n",
        "\n",
        "df_pca = pd.DataFrame(data=X_pca, columns=['principal_component_1', 'principal_component_2'])\n",
        "\n",
        "print(\"--- Componentes Principales (primeras 5 filas) ---\")\n",
        "print(df_pca.head())\n",
        "\n",
        "print(f\"\\nVarianza explicada por cada componente: {pca.explained_variance_ratio_}\")\n",
        "print(f\"Varianza explicada total (2 componentes): {pca.explained_variance_ratio_.sum():.2f}\")"
      ],
      "id": "pca_code"
    },
    {
      "cell_type": "markdown",
      "source": [
        "La varianza explicada total nos dice qué porcentaje de la información original se retiene en los 2 componentes principales."
      ],
      "metadata": {
        "id": "pca_variance_markdown"
      },
      "id": "pca_variance_markdown"
    },
    {
      "cell_type": "markdown",
      "source": [
        "## 6. K-Means Clustering"
      ],
      "metadata": {
        "id": "kmeans_intro_markdown"
      },
      "id": "kmeans_intro_markdown"
    },
    {
      "cell_type": "markdown",
      "source": [
        "### 6.1 Método del Codo para K Óptimo\n",
        "Usaremos el método del codo para ayudar a determinar un número apropiado de clusters (K). Buscamos el punto donde añadir más clusters no mejora significativamente la suma de los errores cuadráticos (SSE) o inercia."
      ],
      "metadata": {
        "id": "elbow_method_markdown"
      },
      "id": "elbow_method_markdown"
    },
    {
      "cell_type": "code",
      "execution_count": null,
      "metadata": {
        "id": "elbow_method_code"
      },
      "outputs": [],
      "source": [
        "sse = []\n",
        "k_range = range(1, 11)\n",
        "\n",
        "for k in k_range:\n",
        "    kmeans = KMeans(n_clusters=k, random_state=42, n_init='auto') # n_init='auto' es el valor por defecto en versiones recientes\n",
        "    kmeans.fit(df_pca) # Usamos los datos transformados por PCA\n",
        "    sse.append(kmeans.inertia_)\n",
        "\n",
        "plt.figure(figsize=(10, 6))\n",
        "plt.plot(k_range, sse, marker='o')\n",
        "plt.title('Método del Codo para Encontrar K Óptimo')\n",
        "plt.xlabel('Número de Clusters (k)')\n",
        "plt.ylabel('SSE (Inercia)')\n",
        "plt.xticks(k_range)\n",
        "plt.grid(True)\n",
        "plt.show()"
      ],
      "id": "elbow_method_code"
    },
    {
      "cell_type": "markdown",
      "source": [
        "Observa el gráfico anterior. El \"codo\" es el punto donde la tasa de disminución de SSE se aplana. Este punto sugiere un valor K óptimo. Para este tutorial, basándonos en el notebook original, usaremos K=4. (En un caso real, seleccionarías K basado en la visualización del codo)."
      ],
      "metadata": {
        "id": "elbow_interpretation_markdown"
      },
      "id": "elbow_interpretation_markdown"
    },
    {
      "cell_type": "markdown",
      "source": [
        "### 6.2 Aplicación de K-Means y Visualización\n",
        "Aplicamos K-Means con el K óptimo (K=4) y visualizamos los clusters en el espacio de PCA."
      ],
      "metadata": {
        "id": "apply_kmeans_markdown"
      },
      "id": "apply_kmeans_markdown"
    },
    {
      "cell_type": "code",
      "execution_count": null,
      "metadata": {
        "id": "apply_kmeans_code",
        "colab_ zowel_odeon_parameters": "{\n  \"dic_map\": {\n    \"optimal_k\": 4\n  },\n  \"options\": [\n    {\n      \"type\": \"integer\",\n      \"key\": \"optimal_k\",\n      \"label\": \"Clusters a utilizar\",\n      \"validation\": [\n        {\n          \"min\": 2,\n          \"max\": 10,\n          \"message\": \"El número de clusters debe estar entre 2 y 10\"\n        }\n      ]\n    }\n  ]\n}"
      },
      "outputs": [],
      "source": [
        "optimal_k = 4 # @param {type:\"integer\"} # Elegido del método del codo o análisis de negocio\n",
        "\n",
        "kmeans_optimal = KMeans(n_clusters=optimal_k, random_state=42, n_init='auto')\n",
        "df_pca['segmento'] = kmeans_optimal.fit_predict(df_pca)\n",
        "\n",
        "plt.figure(figsize=(12, 8))\n",
        "sns.scatterplot(x='principal_component_1', y='principal_component_2', hue='segmento', data=df_pca, palette='viridis', s=100, alpha=0.7)\n",
        "plt.title(f'Clusters de Clientes (k={optimal_k}) en Espacio PCA')\n",
        "plt.xlabel('Componente Principal 1')\n",
        "plt.ylabel('Componente Principal 2')\n",
        "plt.legend(title='Segmento de Cliente')\n",
        "plt.grid(True)\n",
        "plt.show()\n",
        "\n",
        "print(\"--- df_pca con Segmentos ---\")\n",
        "print(df_pca.head())"
      ],
      "id": "apply_kmeans_code"
    },
    {
      "cell_type": "markdown",
      "source": [
        "## 7. Perfilado de Segmentos\n",
        "\n",
        "Ahora que tenemos los segmentos, necesitamos entender qué caracteriza a cada uno. Uniremos las etiquetas de segmento de nuevo al DataFrame `df_segmentacion` (que contiene las características agregadas y el estrato) y analizaremos las medias de las características para cada segmento."
      ],
      "metadata": {
        "id": "profiling_intro_markdown"
      },
      "id": "profiling_intro_markdown"
    },
    {
      "cell_type": "code",
      "execution_count": null,
      "metadata": {
        "id": "add_segment_to_grouped_code"
      },
      "outputs": [],
      "source": [
        "# X fue X.dropna(), así que df_pca debería tener la misma longitud y orden\n",
        "# Creamos df_segmentacion_cleaned para asegurar la correspondencia de índices\n",
        "df_segmentacion_cleaned = df_segmentacion.loc[X.index].copy()\n",
        "df_segmentacion_cleaned['segmento'] = df_pca['segmento'].values\n",
        "\n",
        "print(\"--- df_segmentacion_cleaned con Segmentos ---\")\n",
        "print(df_segmentacion_cleaned.head())"
      ],
      "id": "add_segment_to_grouped_code"
    },
    {
      "cell_type": "markdown",
      "source": [
        "### 7.1 Características Promedio por Segmento"
      ],
      "metadata": {
        "id": "average_chars_markdown"
      },
      "id": "average_chars_markdown"
    },
    {
      "cell_type": "code",
      "execution_count": null,
      "metadata": {
        "id": "average_chars_code"
      },
      "outputs": [],
      "source": [
        "segment_profiles = df_segmentacion_cleaned.groupby('segmento')[features_for_pca].mean()\n",
        "print(\"--- Perfiles de Segmentos (Características Promedio) ---\")\n",
        "print(segment_profiles)\n",
        "\n",
        "# Visualización de los perfiles\n",
        "segment_profiles.T.plot(kind='bar', figsize=(15, 7))\n",
        "plt.title('Características Promedio por Segmento de Cliente')\n",
        "plt.ylabel('Valor Promedio Escalado (o original si se usa X)')\n",
        "plt.xticks(rotation=45, ha='right')\n",
        "plt.legend(title='Segmento')\n",
        "plt.tight_layout()\n",
        "plt.show()"
      ],
      "id": "average_chars_code"
    },
    {
      "cell_type": "markdown",
      "source": [
        "### 7.2 Distribución de Estrato por Segmento"
      ],
      "metadata": {
        "id": "estrato_dist_markdown"
      },
      "id": "estrato_dist_markdown"
    },
    {
      "cell_type": "code",
      "execution_count": null,
      "metadata": {
        "id": "estrato_dist_code"
      },
      "outputs": [],
      "source": [
        "estrato_segment_distribution = pd.crosstab(df_segmentacion_cleaned['segmento'], df_segmentacion_cleaned['Estrato socioeconomico'], normalize='index') * 100\n",
        "print(\"\\n--- Distribución Porcentual de Estrato por Segmento ---\")\n",
        "print(estrato_segment_distribution)\n",
        "\n",
        "estrato_segment_distribution.plot(kind='bar', stacked=True, figsize=(12, 7), colormap='viridis')\n",
        "plt.title('Distribución de Estrato Socioeconómico por Segmento')\n",
        "plt.xlabel('Segmento de Cliente')\n",
        "plt.ylabel('Porcentaje de Clientes (%)')\n",
        "plt.xticks(rotation=0)\n",
        "plt.legend(title='Estrato')\n",
        "plt.tight_layout()\n",
        "plt.show()"
      ],
      "id": "estrato_dist_code"
    },
    {
      "cell_type": "markdown",
      "source": [
        "**Interpretación de Perfiles:**\n",
        "* **Características Promedio:** Observa las barras para cada segmento. ¿Qué características tienen valores altos o bajos en un segmento particular? Por ejemplo, un segmento podría tener un 'Consumo_Promedio' alto y una 'Mora_Promedio' baja, indicando clientes de alto valor y buen comportamiento de pago.\n",
        "* **Distribución de Estrato:** ¿Hay algún estrato predominante en cada segmento? Esto puede ayudar a entender la composición socioeconómica de los grupos.\n",
        "\n",
        "**Nombrando los Segmentos (Ejemplo):**\n",
        "Basado en el análisis, podrías asignar nombres descriptivos a cada segmento, como:\n",
        "* **Segmento 0:** Clientes de Bajo Consumo, Pago Puntual\n",
        "* **Segmento 1:** Clientes de Alto Consumo, Morosidad Moderada, Estrato Alto\n",
        "* Etc."
      ],
      "metadata": {
        "id": "profile_interpretation_markdown"
      },
      "id": "profile_interpretation_markdown"
    },
    {
      "cell_type": "markdown",
      "source": [
        "## 8. Conclusiones y Próximos Pasos\n",
        "\n",
        "En este notebook, hemos:\n",
        "1.  Agregado los datos a nivel de cliente.\n",
        "2.  Utilizado PCA para reducir la dimensionalidad y facilitar la visualización.\n",
        "3.  Aplicado K-Means para agrupar a los clientes en segmentos (K=4 en este ejemplo).\n",
        "4.  Iniciado el perfilado de los segmentos analizando sus características promedio y la distribución de estratos.\n",
        "\n",
        "**Próximos Pasos Potenciales:**\n",
        "* **Validación de Segmentos:** Utilizar métricas de clustering (como el Coeficiente de Silueta) para evaluar la calidad de los segmentos. También, validar la estabilidad de los segmentos con diferentes inicializaciones de K-Means o subconjuntos de datos.\n",
        "* **Perfilado Detallado:** Analizar más variables para cada segmento (e.g., antigüedad del cliente, tipo de contrato, si se incluyeran).\n",
        "* **Acciones Estratégicas:** Definir estrategias específicas para cada segmento (e.g., campañas de fidelización para clientes de alto valor, programas de gestión de mora para segmentos con alta tasa de impago, ofertas personalizadas según el consumo).\n",
        "* **Monitoreo:** Observar cómo evolucionan los segmentos con el tiempo y si los clientes cambian de un segmento a otro.\n",
        "* **Probar otros algoritmos:** Explorar otros algoritmos de clustering (e.g., DBSCAN, Aglomerativo) si K-Means no produce resultados satisfactorios o si se sospecha de estructuras de clusters no esféricas.\n",
        "\n",
        "La segmentación de clientes es una herramienta poderosa para entender mejor la base de clientes y tomar decisiones de negocio más informadas."
      ],
      "metadata": {
        "id": "segmentation_conclusion_markdown"
      },
      "id": "segmentation_conclusion_markdown"
    }
  ]
}